{
  "nbformat": 4,
  "nbformat_minor": 0,
  "metadata": {
    "colab": {
      "name": "PyTorch1.ipynb",
      "provenance": [],
      "collapsed_sections": [],
      "authorship_tag": "ABX9TyPwwGF+ZDQzsfC77Ok/9fEl",
      "include_colab_link": true
    },
    "kernelspec": {
      "name": "python3",
      "display_name": "Python 3"
    }
  },
  "cells": [
    {
      "cell_type": "markdown",
      "metadata": {
        "id": "view-in-github",
        "colab_type": "text"
      },
      "source": [
        "<a href=\"https://colab.research.google.com/github/harikrishnareddymallavarapu/PyTorch/blob/main/PyTorch1.ipynb\" target=\"_parent\"><img src=\"https://colab.research.google.com/assets/colab-badge.svg\" alt=\"Open In Colab\"/></a>"
      ]
    },
    {
      "cell_type": "code",
      "metadata": {
        "id": "mRw-JCQDTIVL"
      },
      "source": [
        "import torch"
      ],
      "execution_count": 1,
      "outputs": []
    },
    {
      "cell_type": "code",
      "metadata": {
        "id": "JaqQ2_-7dHfk"
      },
      "source": [
        "torch.manual_seed(7)"
      ],
      "execution_count": null,
      "outputs": []
    },
    {
      "cell_type": "code",
      "metadata": {
        "id": "Ls494OcKTbd8",
        "outputId": "f0840638-e786-4284-f89e-f0315ddaa0ee",
        "colab": {
          "base_uri": "https://localhost:8080/",
          "height": 35
        }
      },
      "source": [
        "#initalising rand tensor that follows a normal distribution\n",
        "x = torch.randn((1,2))\n",
        "y = torch.randn(1,2)\n",
        "x,y"
      ],
      "execution_count": 6,
      "outputs": [
        {
          "output_type": "execute_result",
          "data": {
            "text/plain": [
              "(tensor([[2.6092, 0.0739]]), tensor([[-0.0219, -1.7810]]))"
            ]
          },
          "metadata": {
            "tags": []
          },
          "execution_count": 6
        }
      ]
    },
    {
      "cell_type": "code",
      "metadata": {
        "id": "mzdM2wGIW7Hg",
        "outputId": "c97042fa-9956-4c5a-e329-06f24dbc45b7",
        "colab": {
          "base_uri": "https://localhost:8080/",
          "height": 35
        }
      },
      "source": [
        "x.shape, y.shape"
      ],
      "execution_count": 7,
      "outputs": [
        {
          "output_type": "execute_result",
          "data": {
            "text/plain": [
              "(torch.Size([1, 2]), torch.Size([1, 2]))"
            ]
          },
          "metadata": {
            "tags": []
          },
          "execution_count": 7
        }
      ]
    },
    {
      "cell_type": "code",
      "metadata": {
        "id": "oIsD9eW8cmYt"
      },
      "source": [
        "#Creating a sigmoid activation function\n",
        "def activation(x):\n",
        "  return 1/(1+ torch.exp(-1*x))"
      ],
      "execution_count": 11,
      "outputs": []
    },
    {
      "cell_type": "code",
      "metadata": {
        "id": "3go5t5lydMjE"
      },
      "source": [
        "features = torch.randn((1,5))\n",
        "weights = torch.randn_like(features)\n",
        "bias = torch.randn((1,1))"
      ],
      "execution_count": 10,
      "outputs": []
    },
    {
      "cell_type": "code",
      "metadata": {
        "id": "V1Y3E4KodqEl",
        "outputId": "0780df0e-38cf-4cff-a068-39cfec74f6dd",
        "colab": {
          "base_uri": "https://localhost:8080/",
          "height": 35
        }
      },
      "source": [
        "#Direct multiplication of features and weights - not efficient\n",
        "output = activation(torch.sum(features*weights)+bias)\n",
        "output"
      ],
      "execution_count": 12,
      "outputs": [
        {
          "output_type": "execute_result",
          "data": {
            "text/plain": [
              "tensor([[0.3345]])"
            ]
          },
          "metadata": {
            "tags": []
          },
          "execution_count": 12
        }
      ]
    },
    {
      "cell_type": "code",
      "metadata": {
        "id": "tTB4Izr7eEHN",
        "outputId": "720dcac0-a10e-4ce1-a5ba-0d5a7389f349",
        "colab": {
          "base_uri": "https://localhost:8080/",
          "height": 35
        }
      },
      "source": [
        "#Tenshor can be reshaped using reshape or resize\n",
        "output = activation(torch.mm(features, weights.view(5,1))+bias)\n",
        "output"
      ],
      "execution_count": 14,
      "outputs": [
        {
          "output_type": "execute_result",
          "data": {
            "text/plain": [
              "tensor([[0.3345]])"
            ]
          },
          "metadata": {
            "tags": []
          },
          "execution_count": 14
        }
      ]
    },
    {
      "cell_type": "code",
      "metadata": {
        "id": "IEo7hf_Rc39w"
      },
      "source": [
        "weights = torch.randn(1,3)\n",
        "bias = "
      ],
      "execution_count": null,
      "outputs": []
    }
  ]
}