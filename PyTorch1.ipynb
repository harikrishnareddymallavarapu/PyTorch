{
  "nbformat": 4,
  "nbformat_minor": 0,
  "metadata": {
    "colab": {
      "name": "PyTorch1.ipynb",
      "provenance": [],
      "collapsed_sections": [],
      "authorship_tag": "ABX9TyPHGpYr0Yy6J1u7M+DHCsXf",
      "include_colab_link": true
    },
    "kernelspec": {
      "name": "python3",
      "display_name": "Python 3"
    }
  },
  "cells": [
    {
      "cell_type": "markdown",
      "metadata": {
        "id": "view-in-github",
        "colab_type": "text"
      },
      "source": [
        "<a href=\"https://colab.research.google.com/github/harikrishnareddymallavarapu/PyTorch/blob/main/PyTorch1.ipynb\" target=\"_parent\"><img src=\"https://colab.research.google.com/assets/colab-badge.svg\" alt=\"Open In Colab\"/></a>"
      ]
    },
    {
      "cell_type": "code",
      "metadata": {
        "id": "mRw-JCQDTIVL"
      },
      "source": [
        "import torch"
      ],
      "execution_count": 2,
      "outputs": []
    },
    {
      "cell_type": "code",
      "metadata": {
        "id": "JaqQ2_-7dHfk"
      },
      "source": [
        "torch.manual_seed(7)"
      ],
      "execution_count": null,
      "outputs": []
    },
    {
      "cell_type": "code",
      "metadata": {
        "id": "Ls494OcKTbd8",
        "outputId": "f0840638-e786-4284-f89e-f0315ddaa0ee",
        "colab": {
          "base_uri": "https://localhost:8080/",
          "height": 35
        }
      },
      "source": [
        "#initalising rand tensor that follows a normal distribution\n",
        "x = torch.randn((1,2))\n",
        "y = torch.randn(1,2)\n",
        "x,y"
      ],
      "execution_count": null,
      "outputs": [
        {
          "output_type": "execute_result",
          "data": {
            "text/plain": [
              "(tensor([[2.6092, 0.0739]]), tensor([[-0.0219, -1.7810]]))"
            ]
          },
          "metadata": {
            "tags": []
          },
          "execution_count": 6
        }
      ]
    },
    {
      "cell_type": "code",
      "metadata": {
        "id": "mzdM2wGIW7Hg",
        "outputId": "c97042fa-9956-4c5a-e329-06f24dbc45b7",
        "colab": {
          "base_uri": "https://localhost:8080/",
          "height": 35
        }
      },
      "source": [
        "x.shape, y.shape"
      ],
      "execution_count": null,
      "outputs": [
        {
          "output_type": "execute_result",
          "data": {
            "text/plain": [
              "(torch.Size([1, 2]), torch.Size([1, 2]))"
            ]
          },
          "metadata": {
            "tags": []
          },
          "execution_count": 7
        }
      ]
    },
    {
      "cell_type": "code",
      "metadata": {
        "id": "oIsD9eW8cmYt"
      },
      "source": [
        "#Creating a sigmoid activation function\n",
        "def activation(x):\n",
        "  return 1/(1+ torch.exp(-1*x))"
      ],
      "execution_count": 21,
      "outputs": []
    },
    {
      "cell_type": "code",
      "metadata": {
        "id": "3go5t5lydMjE"
      },
      "source": [
        "features = torch.randn((1,5))\n",
        "weights = torch.randn_like(features)\n",
        "bias = torch.randn((1,1))"
      ],
      "execution_count": 4,
      "outputs": []
    },
    {
      "cell_type": "code",
      "metadata": {
        "id": "V1Y3E4KodqEl",
        "outputId": "0780df0e-38cf-4cff-a068-39cfec74f6dd",
        "colab": {
          "base_uri": "https://localhost:8080/",
          "height": 35
        }
      },
      "source": [
        "#Direct multiplication of features and weights - not efficient\n",
        "output = activation(torch.sum(features*weights)+bias) # can also be written as (features*weight).sum()\n",
        "#however both multiplication and sum can be done using - torch.matmul or torch.mm, but torch.matmul doesnt return an error if the elelements are of not the same shape\n",
        "output"
      ],
      "execution_count": null,
      "outputs": [
        {
          "output_type": "execute_result",
          "data": {
            "text/plain": [
              "tensor([[0.3345]])"
            ]
          },
          "metadata": {
            "tags": []
          },
          "execution_count": 12
        }
      ]
    },
    {
      "cell_type": "code",
      "metadata": {
        "id": "kUeyweTYZPfY",
        "outputId": "683fca11-82c8-4b4e-c615-1e94023252e4",
        "colab": {
          "base_uri": "https://localhost:8080/",
          "height": 35
        }
      },
      "source": [
        "torch.matmul(features, torch.randn(1,5).view(5,1))"
      ],
      "execution_count": 45,
      "outputs": [
        {
          "output_type": "execute_result",
          "data": {
            "text/plain": [
              "tensor([[-3.2544]])"
            ]
          },
          "metadata": {
            "tags": []
          },
          "execution_count": 45
        }
      ]
    },
    {
      "cell_type": "markdown",
      "metadata": {
        "id": "7vEQCeDcZso3"
      },
      "source": [
        "#Single Layer Nenural Network"
      ]
    },
    {
      "cell_type": "code",
      "metadata": {
        "id": "tTB4Izr7eEHN",
        "outputId": "720dcac0-a10e-4ce1-a5ba-0d5a7389f349",
        "colab": {
          "base_uri": "https://localhost:8080/",
          "height": 35
        }
      },
      "source": [
        "#Tenshor can be reshaped using reshape or resize\n",
        "#weights.reshape(5,1) - returns a new tensor (sometimes it changes the memory location and returns a clone)\n",
        "#weights.resize_(5,1) - '_' - inplace operator, if we request a shape that has more or less elements we will loose some records and doesnt return an error\n",
        "#weights.view(5,1) - returns a new tensor, if elements doesnt match with requested size it returns error\n",
        "output = activation(torch.mm(features, weights.view(5,1))+bias)\n",
        "output"
      ],
      "execution_count": null,
      "outputs": [
        {
          "output_type": "execute_result",
          "data": {
            "text/plain": [
              "tensor([[0.3345]])"
            ]
          },
          "metadata": {
            "tags": []
          },
          "execution_count": 14
        }
      ]
    },
    {
      "cell_type": "markdown",
      "metadata": {
        "id": "jb9wxpe8Zy4m"
      },
      "source": [
        "#Multi Layer Neural Network\n",
        "\n",
        "###Assume 2 layers, Input layer - 5 input features, Hidden Layer - 2 neurons, output contaning one neuron\n",
        "\n"
      ]
    },
    {
      "cell_type": "code",
      "metadata": {
        "id": "IEo7hf_Rc39w",
        "outputId": "62bc8833-d55e-4554-d272-131a241dad19",
        "colab": {
          "base_uri": "https://localhost:8080/",
          "height": 35
        }
      },
      "source": [
        "input = torch.randn((1,5))\n",
        "input.shape"
      ],
      "execution_count": 7,
      "outputs": [
        {
          "output_type": "execute_result",
          "data": {
            "text/plain": [
              "torch.Size([1, 5])"
            ]
          },
          "metadata": {
            "tags": []
          },
          "execution_count": 7
        }
      ]
    },
    {
      "cell_type": "code",
      "metadata": {
        "id": "9oNJlCyWaeof"
      },
      "source": [
        "inputFeatureCount = input.shape[1]\n",
        "hiddenNeuronCount = 2\n",
        "ouputNeuronCount = 1"
      ],
      "execution_count": 8,
      "outputs": []
    },
    {
      "cell_type": "code",
      "metadata": {
        "id": "0xrPMTCpassO"
      },
      "source": [
        "weightsLayer1 = torch.randn(inputFeatureCount,hiddenNeuronCount)\n",
        "weightsLayer2 = torch.randn(hiddenNeuronCount,ouputNeuronCount)"
      ],
      "execution_count": 9,
      "outputs": []
    },
    {
      "cell_type": "code",
      "metadata": {
        "id": "aN0fVIlKbHtY",
        "outputId": "aca1fa73-fd2c-4b99-c16b-44d66a462707",
        "colab": {
          "base_uri": "https://localhost:8080/",
          "height": 69
        }
      },
      "source": [
        "print(weightsLayer2)\n",
        "weightsLayer2.shape\n"
      ],
      "execution_count": 12,
      "outputs": [
        {
          "output_type": "stream",
          "text": [
            "tensor([[-0.3216],\n",
            "        [-0.3656]])\n"
          ],
          "name": "stdout"
        },
        {
          "output_type": "execute_result",
          "data": {
            "text/plain": [
              "torch.Size([2, 1])"
            ]
          },
          "metadata": {
            "tags": []
          },
          "execution_count": 12
        }
      ]
    },
    {
      "cell_type": "code",
      "metadata": {
        "id": "LLnMPbplbaE8",
        "outputId": "7a085884-2a14-49f4-e9cc-46e6b5d5d572",
        "colab": {
          "base_uri": "https://localhost:8080/",
          "height": 121
        }
      },
      "source": [
        "print(weightsLayer1)\n",
        "weightsLayer1.shape"
      ],
      "execution_count": 13,
      "outputs": [
        {
          "output_type": "stream",
          "text": [
            "tensor([[ 0.3687,  1.6291],\n",
            "        [-0.2917, -0.7772],\n",
            "        [-1.6031, -0.1650],\n",
            "        [-0.9162, -0.6727],\n",
            "        [-0.5082,  0.4909]])\n"
          ],
          "name": "stdout"
        },
        {
          "output_type": "execute_result",
          "data": {
            "text/plain": [
              "torch.Size([5, 2])"
            ]
          },
          "metadata": {
            "tags": []
          },
          "execution_count": 13
        }
      ]
    },
    {
      "cell_type": "code",
      "metadata": {
        "id": "feAW-3ipbvpe"
      },
      "source": [
        "biasLayer1 = torch.randn((1,hiddenNeuronCount))\n",
        "biasLayer2 = torch.randn((1,ouputNeuronCount))"
      ],
      "execution_count": 14,
      "outputs": []
    },
    {
      "cell_type": "code",
      "metadata": {
        "id": "CRtUihFRcVWk",
        "outputId": "ffff4aa6-25e5-4c66-f2a0-df38f7ccdd8e",
        "colab": {
          "base_uri": "https://localhost:8080/",
          "height": 35
        }
      },
      "source": [
        "biasLayer1, biasLayer2"
      ],
      "execution_count": 17,
      "outputs": [
        {
          "output_type": "execute_result",
          "data": {
            "text/plain": [
              "(tensor([[-0.6228, -0.1806]]), tensor([[-0.7136]]))"
            ]
          },
          "metadata": {
            "tags": []
          },
          "execution_count": 17
        }
      ]
    },
    {
      "cell_type": "code",
      "metadata": {
        "id": "D-XKo8UDci-9",
        "outputId": "e8693a1f-7caa-4f3c-c5c7-7bb579eeaccd",
        "colab": {
          "base_uri": "https://localhost:8080/",
          "height": 35
        }
      },
      "source": [
        "#Building the Neural Network\n",
        "\n",
        "#Layer1\n",
        "outputHiddenLayer1  = activation(torch.mm(input,weightsLayer1)+biasLayer1)\n",
        "print(input.shape, weightsLayer1.shape, outputHiddenLayer1.shape)"
      ],
      "execution_count": 30,
      "outputs": [
        {
          "output_type": "stream",
          "text": [
            "torch.Size([1, 5]) torch.Size([5, 2]) torch.Size([1, 2])\n"
          ],
          "name": "stdout"
        }
      ]
    },
    {
      "cell_type": "code",
      "metadata": {
        "id": "0SW0exAGeH-n",
        "outputId": "06a39d97-151d-4370-92c5-4adbb8b40bb7",
        "colab": {
          "base_uri": "https://localhost:8080/",
          "height": 35
        }
      },
      "source": [
        "#Layer2\n",
        "outputHiddenLayer2  = activation(torch.mm(outputHiddenLayer1,weightsLayer2)+biasLayer2)\n",
        "print(outputHiddenLayer1.shape, weightsLayer2.shape, outputHiddenLayer2.shape)"
      ],
      "execution_count": 32,
      "outputs": [
        {
          "output_type": "stream",
          "text": [
            "torch.Size([1, 2]) torch.Size([2, 1]) torch.Size([1, 1])\n"
          ],
          "name": "stdout"
        }
      ]
    },
    {
      "cell_type": "markdown",
      "metadata": {
        "id": "UxZdslrGesRq"
      },
      "source": [
        "#Torch to Numpy and back\n",
        "- Here after the conversion, memeory will be still shared between both the tensor and numpy, any inplace operation done on numpy or torch variable will result a change in both\n",
        "\n",
        "\n"
      ]
    },
    {
      "cell_type": "code",
      "metadata": {
        "id": "rdvIKwrwfBCu"
      },
      "source": [
        "import numpy as np"
      ],
      "execution_count": 33,
      "outputs": []
    },
    {
      "cell_type": "code",
      "metadata": {
        "id": "sowUQNhifEzH",
        "outputId": "497761a0-5045-4631-ee2a-fbe0a0b1310f",
        "colab": {
          "base_uri": "https://localhost:8080/",
          "height": 35
        }
      },
      "source": [
        "a = np.random.randn(1,4)\n",
        "a"
      ],
      "execution_count": 38,
      "outputs": [
        {
          "output_type": "execute_result",
          "data": {
            "text/plain": [
              "array([[-1.94903991,  1.55288357, -1.35340269, -0.22766433]])"
            ]
          },
          "metadata": {
            "tags": []
          },
          "execution_count": 38
        }
      ]
    },
    {
      "cell_type": "code",
      "metadata": {
        "id": "k_XAWuRafN9m",
        "outputId": "d7953f71-49ec-410a-b114-ceb6f29b222b",
        "colab": {
          "base_uri": "https://localhost:8080/",
          "height": 35
        }
      },
      "source": [
        "b = torch.from_numpy(a)\n",
        "b"
      ],
      "execution_count": 42,
      "outputs": [
        {
          "output_type": "execute_result",
          "data": {
            "text/plain": [
              "tensor([[-1.9490,  1.5529, -1.3534, -0.2277]], dtype=torch.float64)"
            ]
          },
          "metadata": {
            "tags": []
          },
          "execution_count": 42
        }
      ]
    },
    {
      "cell_type": "code",
      "metadata": {
        "id": "uGCOZxxcfUB5",
        "outputId": "67d02b6c-608c-4a97-9bb4-3f957837b310",
        "colab": {
          "base_uri": "https://localhost:8080/",
          "height": 52
        }
      },
      "source": [
        "b = b*2\n",
        "b,a"
      ],
      "execution_count": 40,
      "outputs": [
        {
          "output_type": "execute_result",
          "data": {
            "text/plain": [
              "(tensor([[-3.8981,  3.1058, -2.7068, -0.4553]], dtype=torch.float64),\n",
              " array([[-1.94903991,  1.55288357, -1.35340269, -0.22766433]]))"
            ]
          },
          "metadata": {
            "tags": []
          },
          "execution_count": 40
        }
      ]
    },
    {
      "cell_type": "code",
      "metadata": {
        "id": "Wpm2eH88fnma",
        "outputId": "7dbcfc27-7371-46b8-a94d-c977c2a4b2e1",
        "colab": {
          "base_uri": "https://localhost:8080/",
          "height": 35
        }
      },
      "source": [
        "b.numpy()"
      ],
      "execution_count": 44,
      "outputs": [
        {
          "output_type": "execute_result",
          "data": {
            "text/plain": [
              "array([[-3.89807982,  3.10576714, -2.70680537, -0.45532865]])"
            ]
          },
          "metadata": {
            "tags": []
          },
          "execution_count": 44
        }
      ]
    },
    {
      "cell_type": "code",
      "metadata": {
        "id": "Psw_7Ow7fcE9",
        "outputId": "78a20b59-c099-41fb-f172-8760f939c5c9",
        "colab": {
          "base_uri": "https://localhost:8080/",
          "height": 52
        }
      },
      "source": [
        "b= b.mul_(2)\n",
        "b,a"
      ],
      "execution_count": 43,
      "outputs": [
        {
          "output_type": "execute_result",
          "data": {
            "text/plain": [
              "(tensor([[-3.8981,  3.1058, -2.7068, -0.4553]], dtype=torch.float64),\n",
              " array([[-3.89807982,  3.10576714, -2.70680537, -0.45532865]]))"
            ]
          },
          "metadata": {
            "tags": []
          },
          "execution_count": 43
        }
      ]
    }
  ]
}