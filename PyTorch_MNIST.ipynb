{
  "nbformat": 4,
  "nbformat_minor": 0,
  "metadata": {
    "colab": {
      "name": "PyTorch-MNIST.ipynb",
      "provenance": [],
      "collapsed_sections": [],
      "authorship_tag": "ABX9TyMGG+qA+XaWe1/iR9Tbm7iB",
      "include_colab_link": true
    },
    "kernelspec": {
      "name": "python3",
      "display_name": "Python 3"
    },
    "widgets": {
      "application/vnd.jupyter.widget-state+json": {
        "46e55c87423747b68d96841ff50cc3be": {
          "model_module": "@jupyter-widgets/controls",
          "model_name": "HBoxModel",
          "state": {
            "_view_name": "HBoxView",
            "_dom_classes": [],
            "_model_name": "HBoxModel",
            "_view_module": "@jupyter-widgets/controls",
            "_model_module_version": "1.5.0",
            "_view_count": null,
            "_view_module_version": "1.5.0",
            "box_style": "",
            "layout": "IPY_MODEL_1ee4dedb56ea48868cab79a9e3d77591",
            "_model_module": "@jupyter-widgets/controls",
            "children": [
              "IPY_MODEL_264543cd521640488a19b39bddf6b839",
              "IPY_MODEL_ef4a565e2ecc4724ab87c13c5981a98a"
            ]
          }
        },
        "1ee4dedb56ea48868cab79a9e3d77591": {
          "model_module": "@jupyter-widgets/base",
          "model_name": "LayoutModel",
          "state": {
            "_view_name": "LayoutView",
            "grid_template_rows": null,
            "right": null,
            "justify_content": null,
            "_view_module": "@jupyter-widgets/base",
            "overflow": null,
            "_model_module_version": "1.2.0",
            "_view_count": null,
            "flex_flow": null,
            "width": null,
            "min_width": null,
            "border": null,
            "align_items": null,
            "bottom": null,
            "_model_module": "@jupyter-widgets/base",
            "top": null,
            "grid_column": null,
            "overflow_y": null,
            "overflow_x": null,
            "grid_auto_flow": null,
            "grid_area": null,
            "grid_template_columns": null,
            "flex": null,
            "_model_name": "LayoutModel",
            "justify_items": null,
            "grid_row": null,
            "max_height": null,
            "align_content": null,
            "visibility": null,
            "align_self": null,
            "height": null,
            "min_height": null,
            "padding": null,
            "grid_auto_rows": null,
            "grid_gap": null,
            "max_width": null,
            "order": null,
            "_view_module_version": "1.2.0",
            "grid_template_areas": null,
            "object_position": null,
            "object_fit": null,
            "grid_auto_columns": null,
            "margin": null,
            "display": null,
            "left": null
          }
        },
        "264543cd521640488a19b39bddf6b839": {
          "model_module": "@jupyter-widgets/controls",
          "model_name": "FloatProgressModel",
          "state": {
            "_view_name": "ProgressView",
            "style": "IPY_MODEL_cd6877a825a54c729405984c51d1770e",
            "_dom_classes": [],
            "description": "",
            "_model_name": "FloatProgressModel",
            "bar_style": "success",
            "max": 1,
            "_view_module": "@jupyter-widgets/controls",
            "_model_module_version": "1.5.0",
            "value": 1,
            "_view_count": null,
            "_view_module_version": "1.5.0",
            "orientation": "horizontal",
            "min": 0,
            "description_tooltip": null,
            "_model_module": "@jupyter-widgets/controls",
            "layout": "IPY_MODEL_8f14dac4eda0472b9912ba28bf8be5e2"
          }
        },
        "ef4a565e2ecc4724ab87c13c5981a98a": {
          "model_module": "@jupyter-widgets/controls",
          "model_name": "HTMLModel",
          "state": {
            "_view_name": "HTMLView",
            "style": "IPY_MODEL_9b8315579c0d4003993fab899c2e85d3",
            "_dom_classes": [],
            "description": "",
            "_model_name": "HTMLModel",
            "placeholder": "​",
            "_view_module": "@jupyter-widgets/controls",
            "_model_module_version": "1.5.0",
            "value": " 9920512/? [00:07&lt;00:00, 1279301.61it/s]",
            "_view_count": null,
            "_view_module_version": "1.5.0",
            "description_tooltip": null,
            "_model_module": "@jupyter-widgets/controls",
            "layout": "IPY_MODEL_1c02c492644c4aea9eec5e44d3bcfc2e"
          }
        },
        "cd6877a825a54c729405984c51d1770e": {
          "model_module": "@jupyter-widgets/controls",
          "model_name": "ProgressStyleModel",
          "state": {
            "_view_name": "StyleView",
            "_model_name": "ProgressStyleModel",
            "description_width": "initial",
            "_view_module": "@jupyter-widgets/base",
            "_model_module_version": "1.5.0",
            "_view_count": null,
            "_view_module_version": "1.2.0",
            "bar_color": null,
            "_model_module": "@jupyter-widgets/controls"
          }
        },
        "8f14dac4eda0472b9912ba28bf8be5e2": {
          "model_module": "@jupyter-widgets/base",
          "model_name": "LayoutModel",
          "state": {
            "_view_name": "LayoutView",
            "grid_template_rows": null,
            "right": null,
            "justify_content": null,
            "_view_module": "@jupyter-widgets/base",
            "overflow": null,
            "_model_module_version": "1.2.0",
            "_view_count": null,
            "flex_flow": null,
            "width": null,
            "min_width": null,
            "border": null,
            "align_items": null,
            "bottom": null,
            "_model_module": "@jupyter-widgets/base",
            "top": null,
            "grid_column": null,
            "overflow_y": null,
            "overflow_x": null,
            "grid_auto_flow": null,
            "grid_area": null,
            "grid_template_columns": null,
            "flex": null,
            "_model_name": "LayoutModel",
            "justify_items": null,
            "grid_row": null,
            "max_height": null,
            "align_content": null,
            "visibility": null,
            "align_self": null,
            "height": null,
            "min_height": null,
            "padding": null,
            "grid_auto_rows": null,
            "grid_gap": null,
            "max_width": null,
            "order": null,
            "_view_module_version": "1.2.0",
            "grid_template_areas": null,
            "object_position": null,
            "object_fit": null,
            "grid_auto_columns": null,
            "margin": null,
            "display": null,
            "left": null
          }
        },
        "9b8315579c0d4003993fab899c2e85d3": {
          "model_module": "@jupyter-widgets/controls",
          "model_name": "DescriptionStyleModel",
          "state": {
            "_view_name": "StyleView",
            "_model_name": "DescriptionStyleModel",
            "description_width": "",
            "_view_module": "@jupyter-widgets/base",
            "_model_module_version": "1.5.0",
            "_view_count": null,
            "_view_module_version": "1.2.0",
            "_model_module": "@jupyter-widgets/controls"
          }
        },
        "1c02c492644c4aea9eec5e44d3bcfc2e": {
          "model_module": "@jupyter-widgets/base",
          "model_name": "LayoutModel",
          "state": {
            "_view_name": "LayoutView",
            "grid_template_rows": null,
            "right": null,
            "justify_content": null,
            "_view_module": "@jupyter-widgets/base",
            "overflow": null,
            "_model_module_version": "1.2.0",
            "_view_count": null,
            "flex_flow": null,
            "width": null,
            "min_width": null,
            "border": null,
            "align_items": null,
            "bottom": null,
            "_model_module": "@jupyter-widgets/base",
            "top": null,
            "grid_column": null,
            "overflow_y": null,
            "overflow_x": null,
            "grid_auto_flow": null,
            "grid_area": null,
            "grid_template_columns": null,
            "flex": null,
            "_model_name": "LayoutModel",
            "justify_items": null,
            "grid_row": null,
            "max_height": null,
            "align_content": null,
            "visibility": null,
            "align_self": null,
            "height": null,
            "min_height": null,
            "padding": null,
            "grid_auto_rows": null,
            "grid_gap": null,
            "max_width": null,
            "order": null,
            "_view_module_version": "1.2.0",
            "grid_template_areas": null,
            "object_position": null,
            "object_fit": null,
            "grid_auto_columns": null,
            "margin": null,
            "display": null,
            "left": null
          }
        },
        "e2ceb22de5304a42abdfbc8c847c870b": {
          "model_module": "@jupyter-widgets/controls",
          "model_name": "HBoxModel",
          "state": {
            "_view_name": "HBoxView",
            "_dom_classes": [],
            "_model_name": "HBoxModel",
            "_view_module": "@jupyter-widgets/controls",
            "_model_module_version": "1.5.0",
            "_view_count": null,
            "_view_module_version": "1.5.0",
            "box_style": "",
            "layout": "IPY_MODEL_98d92dae8d84458696bb0595956c5a5e",
            "_model_module": "@jupyter-widgets/controls",
            "children": [
              "IPY_MODEL_c55927ad2ff743e4b7a11d7cc568efae",
              "IPY_MODEL_e33e81831da34bee90afa8fb0c24befc"
            ]
          }
        },
        "98d92dae8d84458696bb0595956c5a5e": {
          "model_module": "@jupyter-widgets/base",
          "model_name": "LayoutModel",
          "state": {
            "_view_name": "LayoutView",
            "grid_template_rows": null,
            "right": null,
            "justify_content": null,
            "_view_module": "@jupyter-widgets/base",
            "overflow": null,
            "_model_module_version": "1.2.0",
            "_view_count": null,
            "flex_flow": null,
            "width": null,
            "min_width": null,
            "border": null,
            "align_items": null,
            "bottom": null,
            "_model_module": "@jupyter-widgets/base",
            "top": null,
            "grid_column": null,
            "overflow_y": null,
            "overflow_x": null,
            "grid_auto_flow": null,
            "grid_area": null,
            "grid_template_columns": null,
            "flex": null,
            "_model_name": "LayoutModel",
            "justify_items": null,
            "grid_row": null,
            "max_height": null,
            "align_content": null,
            "visibility": null,
            "align_self": null,
            "height": null,
            "min_height": null,
            "padding": null,
            "grid_auto_rows": null,
            "grid_gap": null,
            "max_width": null,
            "order": null,
            "_view_module_version": "1.2.0",
            "grid_template_areas": null,
            "object_position": null,
            "object_fit": null,
            "grid_auto_columns": null,
            "margin": null,
            "display": null,
            "left": null
          }
        },
        "c55927ad2ff743e4b7a11d7cc568efae": {
          "model_module": "@jupyter-widgets/controls",
          "model_name": "FloatProgressModel",
          "state": {
            "_view_name": "ProgressView",
            "style": "IPY_MODEL_6fb65522996240649691c7a54ec55976",
            "_dom_classes": [],
            "description": "",
            "_model_name": "FloatProgressModel",
            "bar_style": "success",
            "max": 1,
            "_view_module": "@jupyter-widgets/controls",
            "_model_module_version": "1.5.0",
            "value": 1,
            "_view_count": null,
            "_view_module_version": "1.5.0",
            "orientation": "horizontal",
            "min": 0,
            "description_tooltip": null,
            "_model_module": "@jupyter-widgets/controls",
            "layout": "IPY_MODEL_80db75657b804e55bbe8ca0ae20e2487"
          }
        },
        "e33e81831da34bee90afa8fb0c24befc": {
          "model_module": "@jupyter-widgets/controls",
          "model_name": "HTMLModel",
          "state": {
            "_view_name": "HTMLView",
            "style": "IPY_MODEL_a79197a24b524e85b212903c57738b2f",
            "_dom_classes": [],
            "description": "",
            "_model_name": "HTMLModel",
            "placeholder": "​",
            "_view_module": "@jupyter-widgets/controls",
            "_model_module_version": "1.5.0",
            "value": " 32768/? [00:07&lt;00:00, 4669.11it/s]",
            "_view_count": null,
            "_view_module_version": "1.5.0",
            "description_tooltip": null,
            "_model_module": "@jupyter-widgets/controls",
            "layout": "IPY_MODEL_7d8adc3955514a5487695d7c890c2918"
          }
        },
        "6fb65522996240649691c7a54ec55976": {
          "model_module": "@jupyter-widgets/controls",
          "model_name": "ProgressStyleModel",
          "state": {
            "_view_name": "StyleView",
            "_model_name": "ProgressStyleModel",
            "description_width": "initial",
            "_view_module": "@jupyter-widgets/base",
            "_model_module_version": "1.5.0",
            "_view_count": null,
            "_view_module_version": "1.2.0",
            "bar_color": null,
            "_model_module": "@jupyter-widgets/controls"
          }
        },
        "80db75657b804e55bbe8ca0ae20e2487": {
          "model_module": "@jupyter-widgets/base",
          "model_name": "LayoutModel",
          "state": {
            "_view_name": "LayoutView",
            "grid_template_rows": null,
            "right": null,
            "justify_content": null,
            "_view_module": "@jupyter-widgets/base",
            "overflow": null,
            "_model_module_version": "1.2.0",
            "_view_count": null,
            "flex_flow": null,
            "width": null,
            "min_width": null,
            "border": null,
            "align_items": null,
            "bottom": null,
            "_model_module": "@jupyter-widgets/base",
            "top": null,
            "grid_column": null,
            "overflow_y": null,
            "overflow_x": null,
            "grid_auto_flow": null,
            "grid_area": null,
            "grid_template_columns": null,
            "flex": null,
            "_model_name": "LayoutModel",
            "justify_items": null,
            "grid_row": null,
            "max_height": null,
            "align_content": null,
            "visibility": null,
            "align_self": null,
            "height": null,
            "min_height": null,
            "padding": null,
            "grid_auto_rows": null,
            "grid_gap": null,
            "max_width": null,
            "order": null,
            "_view_module_version": "1.2.0",
            "grid_template_areas": null,
            "object_position": null,
            "object_fit": null,
            "grid_auto_columns": null,
            "margin": null,
            "display": null,
            "left": null
          }
        },
        "a79197a24b524e85b212903c57738b2f": {
          "model_module": "@jupyter-widgets/controls",
          "model_name": "DescriptionStyleModel",
          "state": {
            "_view_name": "StyleView",
            "_model_name": "DescriptionStyleModel",
            "description_width": "",
            "_view_module": "@jupyter-widgets/base",
            "_model_module_version": "1.5.0",
            "_view_count": null,
            "_view_module_version": "1.2.0",
            "_model_module": "@jupyter-widgets/controls"
          }
        },
        "7d8adc3955514a5487695d7c890c2918": {
          "model_module": "@jupyter-widgets/base",
          "model_name": "LayoutModel",
          "state": {
            "_view_name": "LayoutView",
            "grid_template_rows": null,
            "right": null,
            "justify_content": null,
            "_view_module": "@jupyter-widgets/base",
            "overflow": null,
            "_model_module_version": "1.2.0",
            "_view_count": null,
            "flex_flow": null,
            "width": null,
            "min_width": null,
            "border": null,
            "align_items": null,
            "bottom": null,
            "_model_module": "@jupyter-widgets/base",
            "top": null,
            "grid_column": null,
            "overflow_y": null,
            "overflow_x": null,
            "grid_auto_flow": null,
            "grid_area": null,
            "grid_template_columns": null,
            "flex": null,
            "_model_name": "LayoutModel",
            "justify_items": null,
            "grid_row": null,
            "max_height": null,
            "align_content": null,
            "visibility": null,
            "align_self": null,
            "height": null,
            "min_height": null,
            "padding": null,
            "grid_auto_rows": null,
            "grid_gap": null,
            "max_width": null,
            "order": null,
            "_view_module_version": "1.2.0",
            "grid_template_areas": null,
            "object_position": null,
            "object_fit": null,
            "grid_auto_columns": null,
            "margin": null,
            "display": null,
            "left": null
          }
        },
        "cc17b92779544f3eb7445a0232ef91ce": {
          "model_module": "@jupyter-widgets/controls",
          "model_name": "HBoxModel",
          "state": {
            "_view_name": "HBoxView",
            "_dom_classes": [],
            "_model_name": "HBoxModel",
            "_view_module": "@jupyter-widgets/controls",
            "_model_module_version": "1.5.0",
            "_view_count": null,
            "_view_module_version": "1.5.0",
            "box_style": "",
            "layout": "IPY_MODEL_94b69700e6d745aca75a66c77a9d9474",
            "_model_module": "@jupyter-widgets/controls",
            "children": [
              "IPY_MODEL_a6f37c8cb7784b7d99c711c0e9ba3606",
              "IPY_MODEL_bbec232d36e948a1bd4a166601183e5d"
            ]
          }
        },
        "94b69700e6d745aca75a66c77a9d9474": {
          "model_module": "@jupyter-widgets/base",
          "model_name": "LayoutModel",
          "state": {
            "_view_name": "LayoutView",
            "grid_template_rows": null,
            "right": null,
            "justify_content": null,
            "_view_module": "@jupyter-widgets/base",
            "overflow": null,
            "_model_module_version": "1.2.0",
            "_view_count": null,
            "flex_flow": null,
            "width": null,
            "min_width": null,
            "border": null,
            "align_items": null,
            "bottom": null,
            "_model_module": "@jupyter-widgets/base",
            "top": null,
            "grid_column": null,
            "overflow_y": null,
            "overflow_x": null,
            "grid_auto_flow": null,
            "grid_area": null,
            "grid_template_columns": null,
            "flex": null,
            "_model_name": "LayoutModel",
            "justify_items": null,
            "grid_row": null,
            "max_height": null,
            "align_content": null,
            "visibility": null,
            "align_self": null,
            "height": null,
            "min_height": null,
            "padding": null,
            "grid_auto_rows": null,
            "grid_gap": null,
            "max_width": null,
            "order": null,
            "_view_module_version": "1.2.0",
            "grid_template_areas": null,
            "object_position": null,
            "object_fit": null,
            "grid_auto_columns": null,
            "margin": null,
            "display": null,
            "left": null
          }
        },
        "a6f37c8cb7784b7d99c711c0e9ba3606": {
          "model_module": "@jupyter-widgets/controls",
          "model_name": "FloatProgressModel",
          "state": {
            "_view_name": "ProgressView",
            "style": "IPY_MODEL_17b231271fe74f39b53c4170c4bb1a07",
            "_dom_classes": [],
            "description": "",
            "_model_name": "FloatProgressModel",
            "bar_style": "success",
            "max": 1,
            "_view_module": "@jupyter-widgets/controls",
            "_model_module_version": "1.5.0",
            "value": 1,
            "_view_count": null,
            "_view_module_version": "1.5.0",
            "orientation": "horizontal",
            "min": 0,
            "description_tooltip": null,
            "_model_module": "@jupyter-widgets/controls",
            "layout": "IPY_MODEL_262da6b100de4e548b3dd4f48c0a2f98"
          }
        },
        "bbec232d36e948a1bd4a166601183e5d": {
          "model_module": "@jupyter-widgets/controls",
          "model_name": "HTMLModel",
          "state": {
            "_view_name": "HTMLView",
            "style": "IPY_MODEL_51bf26adfa7e4a818f3eed0777d094bb",
            "_dom_classes": [],
            "description": "",
            "_model_name": "HTMLModel",
            "placeholder": "​",
            "_view_module": "@jupyter-widgets/controls",
            "_model_module_version": "1.5.0",
            "value": " 1654784/? [00:00&lt;00:00, 2424602.51it/s]",
            "_view_count": null,
            "_view_module_version": "1.5.0",
            "description_tooltip": null,
            "_model_module": "@jupyter-widgets/controls",
            "layout": "IPY_MODEL_5893d101028a44e1ad40f5ad7f889fc2"
          }
        },
        "17b231271fe74f39b53c4170c4bb1a07": {
          "model_module": "@jupyter-widgets/controls",
          "model_name": "ProgressStyleModel",
          "state": {
            "_view_name": "StyleView",
            "_model_name": "ProgressStyleModel",
            "description_width": "initial",
            "_view_module": "@jupyter-widgets/base",
            "_model_module_version": "1.5.0",
            "_view_count": null,
            "_view_module_version": "1.2.0",
            "bar_color": null,
            "_model_module": "@jupyter-widgets/controls"
          }
        },
        "262da6b100de4e548b3dd4f48c0a2f98": {
          "model_module": "@jupyter-widgets/base",
          "model_name": "LayoutModel",
          "state": {
            "_view_name": "LayoutView",
            "grid_template_rows": null,
            "right": null,
            "justify_content": null,
            "_view_module": "@jupyter-widgets/base",
            "overflow": null,
            "_model_module_version": "1.2.0",
            "_view_count": null,
            "flex_flow": null,
            "width": null,
            "min_width": null,
            "border": null,
            "align_items": null,
            "bottom": null,
            "_model_module": "@jupyter-widgets/base",
            "top": null,
            "grid_column": null,
            "overflow_y": null,
            "overflow_x": null,
            "grid_auto_flow": null,
            "grid_area": null,
            "grid_template_columns": null,
            "flex": null,
            "_model_name": "LayoutModel",
            "justify_items": null,
            "grid_row": null,
            "max_height": null,
            "align_content": null,
            "visibility": null,
            "align_self": null,
            "height": null,
            "min_height": null,
            "padding": null,
            "grid_auto_rows": null,
            "grid_gap": null,
            "max_width": null,
            "order": null,
            "_view_module_version": "1.2.0",
            "grid_template_areas": null,
            "object_position": null,
            "object_fit": null,
            "grid_auto_columns": null,
            "margin": null,
            "display": null,
            "left": null
          }
        },
        "51bf26adfa7e4a818f3eed0777d094bb": {
          "model_module": "@jupyter-widgets/controls",
          "model_name": "DescriptionStyleModel",
          "state": {
            "_view_name": "StyleView",
            "_model_name": "DescriptionStyleModel",
            "description_width": "",
            "_view_module": "@jupyter-widgets/base",
            "_model_module_version": "1.5.0",
            "_view_count": null,
            "_view_module_version": "1.2.0",
            "_model_module": "@jupyter-widgets/controls"
          }
        },
        "5893d101028a44e1ad40f5ad7f889fc2": {
          "model_module": "@jupyter-widgets/base",
          "model_name": "LayoutModel",
          "state": {
            "_view_name": "LayoutView",
            "grid_template_rows": null,
            "right": null,
            "justify_content": null,
            "_view_module": "@jupyter-widgets/base",
            "overflow": null,
            "_model_module_version": "1.2.0",
            "_view_count": null,
            "flex_flow": null,
            "width": null,
            "min_width": null,
            "border": null,
            "align_items": null,
            "bottom": null,
            "_model_module": "@jupyter-widgets/base",
            "top": null,
            "grid_column": null,
            "overflow_y": null,
            "overflow_x": null,
            "grid_auto_flow": null,
            "grid_area": null,
            "grid_template_columns": null,
            "flex": null,
            "_model_name": "LayoutModel",
            "justify_items": null,
            "grid_row": null,
            "max_height": null,
            "align_content": null,
            "visibility": null,
            "align_self": null,
            "height": null,
            "min_height": null,
            "padding": null,
            "grid_auto_rows": null,
            "grid_gap": null,
            "max_width": null,
            "order": null,
            "_view_module_version": "1.2.0",
            "grid_template_areas": null,
            "object_position": null,
            "object_fit": null,
            "grid_auto_columns": null,
            "margin": null,
            "display": null,
            "left": null
          }
        },
        "ce87a971b1fe48abb7c7925a049deab7": {
          "model_module": "@jupyter-widgets/controls",
          "model_name": "HBoxModel",
          "state": {
            "_view_name": "HBoxView",
            "_dom_classes": [],
            "_model_name": "HBoxModel",
            "_view_module": "@jupyter-widgets/controls",
            "_model_module_version": "1.5.0",
            "_view_count": null,
            "_view_module_version": "1.5.0",
            "box_style": "",
            "layout": "IPY_MODEL_5c9b7ca6d2f3466183f86beb57e08ad2",
            "_model_module": "@jupyter-widgets/controls",
            "children": [
              "IPY_MODEL_6681ba797b7c4cbab02d56348de18d9d",
              "IPY_MODEL_747738b5633b4f94bc9ed12bd0de7866"
            ]
          }
        },
        "5c9b7ca6d2f3466183f86beb57e08ad2": {
          "model_module": "@jupyter-widgets/base",
          "model_name": "LayoutModel",
          "state": {
            "_view_name": "LayoutView",
            "grid_template_rows": null,
            "right": null,
            "justify_content": null,
            "_view_module": "@jupyter-widgets/base",
            "overflow": null,
            "_model_module_version": "1.2.0",
            "_view_count": null,
            "flex_flow": null,
            "width": null,
            "min_width": null,
            "border": null,
            "align_items": null,
            "bottom": null,
            "_model_module": "@jupyter-widgets/base",
            "top": null,
            "grid_column": null,
            "overflow_y": null,
            "overflow_x": null,
            "grid_auto_flow": null,
            "grid_area": null,
            "grid_template_columns": null,
            "flex": null,
            "_model_name": "LayoutModel",
            "justify_items": null,
            "grid_row": null,
            "max_height": null,
            "align_content": null,
            "visibility": null,
            "align_self": null,
            "height": null,
            "min_height": null,
            "padding": null,
            "grid_auto_rows": null,
            "grid_gap": null,
            "max_width": null,
            "order": null,
            "_view_module_version": "1.2.0",
            "grid_template_areas": null,
            "object_position": null,
            "object_fit": null,
            "grid_auto_columns": null,
            "margin": null,
            "display": null,
            "left": null
          }
        },
        "6681ba797b7c4cbab02d56348de18d9d": {
          "model_module": "@jupyter-widgets/controls",
          "model_name": "FloatProgressModel",
          "state": {
            "_view_name": "ProgressView",
            "style": "IPY_MODEL_00527fb98af14b44b506ae9491967e76",
            "_dom_classes": [],
            "description": "",
            "_model_name": "FloatProgressModel",
            "bar_style": "success",
            "max": 1,
            "_view_module": "@jupyter-widgets/controls",
            "_model_module_version": "1.5.0",
            "value": 1,
            "_view_count": null,
            "_view_module_version": "1.5.0",
            "orientation": "horizontal",
            "min": 0,
            "description_tooltip": null,
            "_model_module": "@jupyter-widgets/controls",
            "layout": "IPY_MODEL_75533113a3bc4f68a0bd19c3042bd27b"
          }
        },
        "747738b5633b4f94bc9ed12bd0de7866": {
          "model_module": "@jupyter-widgets/controls",
          "model_name": "HTMLModel",
          "state": {
            "_view_name": "HTMLView",
            "style": "IPY_MODEL_00a9a33f7ba54427a748b8d13e7801a9",
            "_dom_classes": [],
            "description": "",
            "_model_name": "HTMLModel",
            "placeholder": "​",
            "_view_module": "@jupyter-widgets/controls",
            "_model_module_version": "1.5.0",
            "value": " 8192/? [00:00&lt;00:00, 19681.81it/s]",
            "_view_count": null,
            "_view_module_version": "1.5.0",
            "description_tooltip": null,
            "_model_module": "@jupyter-widgets/controls",
            "layout": "IPY_MODEL_0b7be5b1a8fb487aac3cd246aa68fc74"
          }
        },
        "00527fb98af14b44b506ae9491967e76": {
          "model_module": "@jupyter-widgets/controls",
          "model_name": "ProgressStyleModel",
          "state": {
            "_view_name": "StyleView",
            "_model_name": "ProgressStyleModel",
            "description_width": "initial",
            "_view_module": "@jupyter-widgets/base",
            "_model_module_version": "1.5.0",
            "_view_count": null,
            "_view_module_version": "1.2.0",
            "bar_color": null,
            "_model_module": "@jupyter-widgets/controls"
          }
        },
        "75533113a3bc4f68a0bd19c3042bd27b": {
          "model_module": "@jupyter-widgets/base",
          "model_name": "LayoutModel",
          "state": {
            "_view_name": "LayoutView",
            "grid_template_rows": null,
            "right": null,
            "justify_content": null,
            "_view_module": "@jupyter-widgets/base",
            "overflow": null,
            "_model_module_version": "1.2.0",
            "_view_count": null,
            "flex_flow": null,
            "width": null,
            "min_width": null,
            "border": null,
            "align_items": null,
            "bottom": null,
            "_model_module": "@jupyter-widgets/base",
            "top": null,
            "grid_column": null,
            "overflow_y": null,
            "overflow_x": null,
            "grid_auto_flow": null,
            "grid_area": null,
            "grid_template_columns": null,
            "flex": null,
            "_model_name": "LayoutModel",
            "justify_items": null,
            "grid_row": null,
            "max_height": null,
            "align_content": null,
            "visibility": null,
            "align_self": null,
            "height": null,
            "min_height": null,
            "padding": null,
            "grid_auto_rows": null,
            "grid_gap": null,
            "max_width": null,
            "order": null,
            "_view_module_version": "1.2.0",
            "grid_template_areas": null,
            "object_position": null,
            "object_fit": null,
            "grid_auto_columns": null,
            "margin": null,
            "display": null,
            "left": null
          }
        },
        "00a9a33f7ba54427a748b8d13e7801a9": {
          "model_module": "@jupyter-widgets/controls",
          "model_name": "DescriptionStyleModel",
          "state": {
            "_view_name": "StyleView",
            "_model_name": "DescriptionStyleModel",
            "description_width": "",
            "_view_module": "@jupyter-widgets/base",
            "_model_module_version": "1.5.0",
            "_view_count": null,
            "_view_module_version": "1.2.0",
            "_model_module": "@jupyter-widgets/controls"
          }
        },
        "0b7be5b1a8fb487aac3cd246aa68fc74": {
          "model_module": "@jupyter-widgets/base",
          "model_name": "LayoutModel",
          "state": {
            "_view_name": "LayoutView",
            "grid_template_rows": null,
            "right": null,
            "justify_content": null,
            "_view_module": "@jupyter-widgets/base",
            "overflow": null,
            "_model_module_version": "1.2.0",
            "_view_count": null,
            "flex_flow": null,
            "width": null,
            "min_width": null,
            "border": null,
            "align_items": null,
            "bottom": null,
            "_model_module": "@jupyter-widgets/base",
            "top": null,
            "grid_column": null,
            "overflow_y": null,
            "overflow_x": null,
            "grid_auto_flow": null,
            "grid_area": null,
            "grid_template_columns": null,
            "flex": null,
            "_model_name": "LayoutModel",
            "justify_items": null,
            "grid_row": null,
            "max_height": null,
            "align_content": null,
            "visibility": null,
            "align_self": null,
            "height": null,
            "min_height": null,
            "padding": null,
            "grid_auto_rows": null,
            "grid_gap": null,
            "max_width": null,
            "order": null,
            "_view_module_version": "1.2.0",
            "grid_template_areas": null,
            "object_position": null,
            "object_fit": null,
            "grid_auto_columns": null,
            "margin": null,
            "display": null,
            "left": null
          }
        }
      }
    }
  },
  "cells": [
    {
      "cell_type": "markdown",
      "metadata": {
        "id": "view-in-github",
        "colab_type": "text"
      },
      "source": [
        "<a href=\"https://colab.research.google.com/github/harikrishnareddymallavarapu/PyTorch/blob/main/PyTorch_MNIST.ipynb\" target=\"_parent\"><img src=\"https://colab.research.google.com/assets/colab-badge.svg\" alt=\"Open In Colab\"/></a>"
      ]
    },
    {
      "cell_type": "code",
      "metadata": {
        "id": "Yp9yqfKZgqNh"
      },
      "source": [
        "%matplotlib inline\n",
        "%config InlineBackend.figure.format ='retina'\n",
        "\n",
        "import torch\n",
        "import numpy as np\n",
        "import helper\n",
        "import matplotlib.pyplot as plt"
      ],
      "execution_count": 1,
      "outputs": []
    },
    {
      "cell_type": "markdown",
      "metadata": {
        "id": "AL9iBeL4hPOO"
      },
      "source": [
        "# MNIST data set \n",
        "- Each image is converted to 28*28 pixel value\n",
        "-transforms.Compose just clubs all the transforms provided to it. So, all the transforms in the transforms.Compose are applied to the input one by one.\n",
        "-Normalize does the following for each channel:\n",
        "\n",
        "  image = (image - mean) / std\n",
        "\n",
        "  The parameters mean, std are passed as 0.5, 0.5 in your case. This will normalize the image in the range [-1,1]. For example, the minimum value 0 will be converted to (0-0.5)/0.5=-1, the maximum value of 1 will be converted to (1-0.5)/0.5=1.\n",
        "\n",
        "  if you would like to get your image back in [0,1] range, you could use,\n",
        "\n",
        "  image = ((image * std) + mean)\n",
        "\n",
        "  Normalization helps get data within a range and reduces the skewness which helps learn faster and better\n",
        "\n",
        "  Color images have three channels (red, green, blue), therefore you need three parameters to normalize each channel. The first tuple (0.5, 0.5, 0.5) is the mean for all three channels and the second (0.5, 0.5, 0.5) is the standard deviation for all three channels."
      ]
    },
    {
      "cell_type": "markdown",
      "metadata": {
        "id": "gxsfaF0zlMeD"
      },
      "source": [
        "torchvision.transforms.Normalize(mean, std, inplace=False)\n",
        "\n",
        "- Normalize a tensor image with mean and standard deviation. Given mean: (mean[1],...,mean[n]) and std: (std[1],..,std[n]) for n channels, this transform will normalize each channel of the input torch.*Tensor i.e., output[channel] = (input[channel] - mean[channel]) / std[channel]\n"
      ]
    },
    {
      "cell_type": "code",
      "metadata": {
        "id": "2SWhkRH_gyUn"
      },
      "source": [
        "from torchvision import datasets, transforms"
      ],
      "execution_count": 2,
      "outputs": []
    },
    {
      "cell_type": "code",
      "metadata": {
        "id": "z-R1Vp3siVs7"
      },
      "source": [
        "#Defining the transform to normalize the data\n",
        "transform = transforms.Compose([transforms.ToTensor(),\n",
        "                                transforms.Normalize((0.5,),(0.5,)),])"
      ],
      "execution_count": 3,
      "outputs": []
    },
    {
      "cell_type": "code",
      "metadata": {
        "id": "Q3kLdZ9WlgpM",
        "outputId": "7332eda2-dab6-4c40-b036-2b11a82963df",
        "colab": {
          "base_uri": "https://localhost:8080/",
          "height": 373,
          "referenced_widgets": [
            "46e55c87423747b68d96841ff50cc3be",
            "1ee4dedb56ea48868cab79a9e3d77591",
            "264543cd521640488a19b39bddf6b839",
            "ef4a565e2ecc4724ab87c13c5981a98a",
            "cd6877a825a54c729405984c51d1770e",
            "8f14dac4eda0472b9912ba28bf8be5e2",
            "9b8315579c0d4003993fab899c2e85d3",
            "1c02c492644c4aea9eec5e44d3bcfc2e",
            "e2ceb22de5304a42abdfbc8c847c870b",
            "98d92dae8d84458696bb0595956c5a5e",
            "c55927ad2ff743e4b7a11d7cc568efae",
            "e33e81831da34bee90afa8fb0c24befc",
            "6fb65522996240649691c7a54ec55976",
            "80db75657b804e55bbe8ca0ae20e2487",
            "a79197a24b524e85b212903c57738b2f",
            "7d8adc3955514a5487695d7c890c2918",
            "cc17b92779544f3eb7445a0232ef91ce",
            "94b69700e6d745aca75a66c77a9d9474",
            "a6f37c8cb7784b7d99c711c0e9ba3606",
            "bbec232d36e948a1bd4a166601183e5d",
            "17b231271fe74f39b53c4170c4bb1a07",
            "262da6b100de4e548b3dd4f48c0a2f98",
            "51bf26adfa7e4a818f3eed0777d094bb",
            "5893d101028a44e1ad40f5ad7f889fc2",
            "ce87a971b1fe48abb7c7925a049deab7",
            "5c9b7ca6d2f3466183f86beb57e08ad2",
            "6681ba797b7c4cbab02d56348de18d9d",
            "747738b5633b4f94bc9ed12bd0de7866",
            "00527fb98af14b44b506ae9491967e76",
            "75533113a3bc4f68a0bd19c3042bd27b",
            "00a9a33f7ba54427a748b8d13e7801a9",
            "0b7be5b1a8fb487aac3cd246aa68fc74"
          ]
        }
      },
      "source": [
        "#Download and load the training data\n",
        "trainset = datasets.MNIST('MNIST-data/', download=True, train=True, transform=transform)\n",
        "trainLoader = torch.utils.data.DataLoader(trainset, shuffle=True,batch_size=64)"
      ],
      "execution_count": 4,
      "outputs": [
        {
          "output_type": "stream",
          "text": [
            "Downloading http://yann.lecun.com/exdb/mnist/train-images-idx3-ubyte.gz to MNIST-data/MNIST/raw/train-images-idx3-ubyte.gz\n"
          ],
          "name": "stdout"
        },
        {
          "output_type": "display_data",
          "data": {
            "application/vnd.jupyter.widget-view+json": {
              "model_id": "46e55c87423747b68d96841ff50cc3be",
              "version_minor": 0,
              "version_major": 2
            },
            "text/plain": [
              "HBox(children=(FloatProgress(value=1.0, bar_style='info', max=1.0), HTML(value='')))"
            ]
          },
          "metadata": {
            "tags": []
          }
        },
        {
          "output_type": "stream",
          "text": [
            "Extracting MNIST-data/MNIST/raw/train-images-idx3-ubyte.gz to MNIST-data/MNIST/raw\n",
            "Downloading http://yann.lecun.com/exdb/mnist/train-labels-idx1-ubyte.gz to MNIST-data/MNIST/raw/train-labels-idx1-ubyte.gz\n"
          ],
          "name": "stdout"
        },
        {
          "output_type": "display_data",
          "data": {
            "application/vnd.jupyter.widget-view+json": {
              "model_id": "e2ceb22de5304a42abdfbc8c847c870b",
              "version_minor": 0,
              "version_major": 2
            },
            "text/plain": [
              "HBox(children=(FloatProgress(value=1.0, bar_style='info', max=1.0), HTML(value='')))"
            ]
          },
          "metadata": {
            "tags": []
          }
        },
        {
          "output_type": "stream",
          "text": [
            "Extracting MNIST-data/MNIST/raw/train-labels-idx1-ubyte.gz to MNIST-data/MNIST/raw\n",
            "Downloading http://yann.lecun.com/exdb/mnist/t10k-images-idx3-ubyte.gz to MNIST-data/MNIST/raw/t10k-images-idx3-ubyte.gz\n"
          ],
          "name": "stdout"
        },
        {
          "output_type": "display_data",
          "data": {
            "application/vnd.jupyter.widget-view+json": {
              "model_id": "cc17b92779544f3eb7445a0232ef91ce",
              "version_minor": 0,
              "version_major": 2
            },
            "text/plain": [
              "HBox(children=(FloatProgress(value=1.0, bar_style='info', max=1.0), HTML(value='')))"
            ]
          },
          "metadata": {
            "tags": []
          }
        },
        {
          "output_type": "stream",
          "text": [
            "Extracting MNIST-data/MNIST/raw/t10k-images-idx3-ubyte.gz to MNIST-data/MNIST/raw\n",
            "Downloading http://yann.lecun.com/exdb/mnist/t10k-labels-idx1-ubyte.gz to MNIST-data/MNIST/raw/t10k-labels-idx1-ubyte.gz\n"
          ],
          "name": "stdout"
        },
        {
          "output_type": "display_data",
          "data": {
            "application/vnd.jupyter.widget-view+json": {
              "model_id": "ce87a971b1fe48abb7c7925a049deab7",
              "version_minor": 0,
              "version_major": 2
            },
            "text/plain": [
              "HBox(children=(FloatProgress(value=1.0, bar_style='info', max=1.0), HTML(value='')))"
            ]
          },
          "metadata": {
            "tags": []
          }
        },
        {
          "output_type": "stream",
          "text": [
            "Extracting MNIST-data/MNIST/raw/t10k-labels-idx1-ubyte.gz to MNIST-data/MNIST/raw\n",
            "Processing...\n",
            "Done!\n"
          ],
          "name": "stdout"
        },
        {
          "output_type": "stream",
          "text": [
            "/usr/local/lib/python3.6/dist-packages/torchvision/datasets/mnist.py:469: UserWarning: The given NumPy array is not writeable, and PyTorch does not support non-writeable tensors. This means you can write to the underlying (supposedly non-writeable) NumPy array using the tensor. You may want to copy the array to protect its data or make it writeable before converting it to a tensor. This type of warning will be suppressed for the rest of this program. (Triggered internally at  /pytorch/torch/csrc/utils/tensor_numpy.cpp:141.)\n",
            "  return torch.from_numpy(parsed.astype(m[2], copy=False)).view(*s)\n"
          ],
          "name": "stderr"
        }
      ]
    },
    {
      "cell_type": "code",
      "metadata": {
        "id": "-y-crhbAmZ7u",
        "outputId": "89e72c32-382e-4260-b247-3aadd90df433",
        "colab": {
          "base_uri": "https://localhost:8080/",
          "height": 35
        }
      },
      "source": [
        "trainLoader"
      ],
      "execution_count": 5,
      "outputs": [
        {
          "output_type": "execute_result",
          "data": {
            "text/plain": [
              "<torch.utils.data.dataloader.DataLoader at 0x7f6220a57ef0>"
            ]
          },
          "metadata": {
            "tags": []
          },
          "execution_count": 5
        }
      ]
    },
    {
      "cell_type": "code",
      "metadata": {
        "id": "ramyxnGzm8RK",
        "outputId": "81ca7ef3-301b-4542-e9d4-fda5981a70d9",
        "colab": {
          "base_uri": "https://localhost:8080/",
          "height": 104
        }
      },
      "source": [
        "dataiter = iter(trainLoader)\n",
        "images, labels = dataiter.next()\n",
        "print(type(images))\n",
        "print(images.shape)\n",
        "print(labels.shape)"
      ],
      "execution_count": 6,
      "outputs": [
        {
          "output_type": "stream",
          "text": [
            "\n",
            "\n",
            "<class 'torch.Tensor'>\n",
            "torch.Size([64, 1, 28, 28])\n",
            "torch.Size([64])\n"
          ],
          "name": "stdout"
        }
      ]
    },
    {
      "cell_type": "code",
      "metadata": {
        "id": "MBWqH177oFEz",
        "outputId": "9aa7465b-beee-4f2c-a7b4-f23c8ebbacb3",
        "colab": {
          "base_uri": "https://localhost:8080/",
          "height": 317
        }
      },
      "source": [
        "plt.imshow(images[1].numpy().squeeze(),cmap = 'Greys_r')"
      ],
      "execution_count": 7,
      "outputs": [
        {
          "output_type": "stream",
          "text": [
            "\n",
            "\n"
          ],
          "name": "stdout"
        },
        {
          "output_type": "execute_result",
          "data": {
            "text/plain": [
              "<matplotlib.image.AxesImage at 0x7f6220a57fd0>"
            ]
          },
          "metadata": {
            "tags": []
          },
          "execution_count": 7
        },
        {
          "output_type": "display_data",
          "data": {
            "image/png": "[encoded data removed]",
            "text/plain": [
              "<Figure size 432x288 with 1 Axes>"
            ]
          },
          "metadata": {
            "tags": [],
            "needs_background": "light"
          }
        }
      ]
    },
    {
      "cell_type": "markdown",
      "metadata": {
        "id": "kYjkKu_1obUx"
      },
      "source": [
        "#Exercise \n",
        "- Flatten the batch of images,. Then build a multi layer network with 784 inputs and 256 hidden units and 10 output units using random tensors for wieghts and biases. Sigmoid layer as activation function for hidden layers and softmax in the output (this follows a probability distribution) \n",
        "- 10 outpus to identify the 10 digits"
      ]
    },
    {
      "cell_type": "code",
      "metadata": {
        "id": "EoEhiJ9KpBkc",
        "outputId": "1e76121c-b485-44e0-e104-2f4f98262d4d",
        "colab": {
          "base_uri": "https://localhost:8080/",
          "height": 1000
        }
      },
      "source": [
        "#Flatten the images\n",
        "images[0].view(784,-1)"
      ],
      "execution_count": 8,
      "outputs": [
        {
          "output_type": "execute_result",
          "data": {
            "text/plain": [
              "tensor([[-1.0000],\n",
              "        [-1.0000],\n",
              "        [-1.0000],\n",
              "        [-1.0000],\n",
              "        [-1.0000],\n",
              "        [-1.0000],\n",
              "        [-1.0000],\n",
              "        [-1.0000],\n",
              "        [-1.0000],\n",
              "        [-1.0000],\n",
              "        [-1.0000],\n",
              "        [-1.0000],\n",
              "        [-1.0000],\n",
              "        [-1.0000],\n",
              "        [-1.0000],\n",
              "        [-1.0000],\n",
              "        [-1.0000],\n",
              "        [-1.0000],\n",
              "        [-1.0000],\n",
              "        [-1.0000],\n",
              "        [-1.0000],\n",
              "        [-1.0000],\n",
              "        [-1.0000],\n",
              "        [-1.0000],\n",
              "        [-1.0000],\n",
              "        [-1.0000],\n",
              "        [-1.0000],\n",
              "        [-1.0000],\n",
              "        [-1.0000],\n",
              "        [-1.0000],\n",
              "        [-1.0000],\n",
              "        [-1.0000],\n",
              "        [-1.0000],\n",
              "        [-1.0000],\n",
              "        [-1.0000],\n",
              "        [-1.0000],\n",
              "        [-1.0000],\n",
              "        [-1.0000],\n",
              "        [-1.0000],\n",
              "        [-1.0000],\n",
              "        [-1.0000],\n",
              "        [-1.0000],\n",
              "        [-1.0000],\n",
              "        [-1.0000],\n",
              "        [-1.0000],\n",
              "        [-1.0000],\n",
              "        [-1.0000],\n",
              "        [-1.0000],\n",
              "        [-1.0000],\n",
              "        [-1.0000],\n",
              "        [-1.0000],\n",
              "        [-1.0000],\n",
              "        [-1.0000],\n",
              "        [-1.0000],\n",
              "        [-1.0000],\n",
              "        [-1.0000],\n",
              "        [-1.0000],\n",
              "        [-1.0000],\n",
              "        [-1.0000],\n",
              "        [-1.0000],\n",
              "        [-1.0000],\n",
              "        [-1.0000],\n",
              "        [-1.0000],\n",
              "        [-1.0000],\n",
              "        [-1.0000],\n",
              "        [-1.0000],\n",
              "        [-1.0000],\n",
              "        [-1.0000],\n",
              "        [-1.0000],\n",
              "        [-1.0000],\n",
              "        [-1.0000],\n",
              "        [-1.0000],\n",
              "        [-1.0000],\n",
              "        [-1.0000],\n",
              "        [-1.0000],\n",
              "        [-1.0000],\n",
              "        [-1.0000],\n",
              "        [-1.0000],\n",
              "        [-1.0000],\n",
              "        [-1.0000],\n",
              "        [-1.0000],\n",
              "        [-1.0000],\n",
              "        [-1.0000],\n",
              "        [-1.0000],\n",
              "        [-1.0000],\n",
              "        [-1.0000],\n",
              "        [-1.0000],\n",
              "        [-1.0000],\n",
              "        [-1.0000],\n",
              "        [-1.0000],\n",
              "        [-1.0000],\n",
              "        [-1.0000],\n",
              "        [-1.0000],\n",
              "        [-1.0000],\n",
              "        [-1.0000],\n",
              "        [-1.0000],\n",
              "        [-1.0000],\n",
              "        [-1.0000],\n",
              "        [-1.0000],\n",
              "        [-1.0000],\n",
              "        [-1.0000],\n",
              "        [-1.0000],\n",
              "        [-1.0000],\n",
              "        [-1.0000],\n",
              "        [-1.0000],\n",
              "        [-1.0000],\n",
              "        [-1.0000],\n",
              "        [-1.0000],\n",
              "        [-1.0000],\n",
              "        [-1.0000],\n",
              "        [-1.0000],\n",
              "        [-1.0000],\n",
              "        [-1.0000],\n",
              "        [-1.0000],\n",
              "        [-1.0000],\n",
              "        [-1.0000],\n",
              "        [-1.0000],\n",
              "        [-1.0000],\n",
              "        [-1.0000],\n",
              "        [-1.0000],\n",
              "        [-1.0000],\n",
              "        [-1.0000],\n",
              "        [-1.0000],\n",
              "        [-1.0000],\n",
              "        [-1.0000],\n",
              "        [-1.0000],\n",
              "        [-1.0000],\n",
              "        [-1.0000],\n",
              "        [-1.0000],\n",
              "        [-1.0000],\n",
              "        [-1.0000],\n",
              "        [-1.0000],\n",
              "        [-1.0000],\n",
              "        [-1.0000],\n",
              "        [-1.0000],\n",
              "        [-1.0000],\n",
              "        [-1.0000],\n",
              "        [-1.0000],\n",
              "        [-1.0000],\n",
              "        [-1.0000],\n",
              "        [-1.0000],\n",
              "        [-1.0000],\n",
              "        [-1.0000],\n",
              "        [-1.0000],\n",
              "        [-1.0000],\n",
              "        [-1.0000],\n",
              "        [-1.0000],\n",
              "        [-1.0000],\n",
              "        [-1.0000],\n",
              "        [-1.0000],\n",
              "        [-1.0000],\n",
              "        [-1.0000],\n",
              "        [-1.0000],\n",
              "        [-1.0000],\n",
              "        [-1.0000],\n",
              "        [-1.0000],\n",
              "        [-1.0000],\n",
              "        [-1.0000],\n",
              "        [-1.0000],\n",
              "        [-1.0000],\n",
              "        [-1.0000],\n",
              "        [-1.0000],\n",
              "        [-1.0000],\n",
              "        [-1.0000],\n",
              "        [-1.0000],\n",
              "        [-1.0000],\n",
              "        [-1.0000],\n",
              "        [-1.0000],\n",
              "        [-1.0000],\n",
              "        [-1.0000],\n",
              "        [-1.0000],\n",
              "        [-1.0000],\n",
              "        [-1.0000],\n",
              "        [-1.0000],\n",
              "        [-1.0000],\n",
              "        [-1.0000],\n",
              "        [-1.0000],\n",
              "        [-1.0000],\n",
              "        [-1.0000],\n",
              "        [-1.0000],\n",
              "        [-1.0000],\n",
              "        [-1.0000],\n",
              "        [-1.0000],\n",
              "        [-1.0000],\n",
              "        [-1.0000],\n",
              "        [-1.0000],\n",
              "        [-1.0000],\n",
              "        [-1.0000],\n",
              "        [-1.0000],\n",
              "        [-1.0000],\n",
              "        [-1.0000],\n",
              "        [-1.0000],\n",
              "        [-1.0000],\n",
              "        [-1.0000],\n",
              "        [-1.0000],\n",
              "        [-1.0000],\n",
              "        [-1.0000],\n",
              "        [-1.0000],\n",
              "        [-1.0000],\n",
              "        [-1.0000],\n",
              "        [-1.0000],\n",
              "        [-0.8745],\n",
              "        [ 0.1137],\n",
              "        [ 0.1765],\n",
              "        [ 0.5137],\n",
              "        [ 0.3804],\n",
              "        [ 1.0000],\n",
              "        [ 0.4980],\n",
              "        [ 0.8353],\n",
              "        [ 0.9922],\n",
              "        [ 0.9922],\n",
              "        [ 0.9922],\n",
              "        [ 0.9922],\n",
              "        [ 0.4980],\n",
              "        [-1.0000],\n",
              "        [-1.0000],\n",
              "        [-1.0000],\n",
              "        [-1.0000],\n",
              "        [-1.0000],\n",
              "        [-1.0000],\n",
              "        [-1.0000],\n",
              "        [-1.0000],\n",
              "        [-1.0000],\n",
              "        [-1.0000],\n",
              "        [-1.0000],\n",
              "        [-1.0000],\n",
              "        [-1.0000],\n",
              "        [-1.0000],\n",
              "        [-1.0000],\n",
              "        [-0.0118],\n",
              "        [ 0.9843],\n",
              "        [ 0.9843],\n",
              "        [ 0.9843],\n",
              "        [ 0.9843],\n",
              "        [ 0.9843],\n",
              "        [ 0.9843],\n",
              "        [ 0.9843],\n",
              "        [ 0.9843],\n",
              "        [ 0.9843],\n",
              "        [ 0.9843],\n",
              "        [ 0.9843],\n",
              "        [ 0.8824],\n",
              "        [-0.7569],\n",
              "        [-1.0000],\n",
              "        [-1.0000],\n",
              "        [-1.0000],\n",
              "        [-1.0000],\n",
              "        [-1.0000],\n",
              "        [-1.0000],\n",
              "        [-1.0000],\n",
              "        [-1.0000],\n",
              "        [-1.0000],\n",
              "        [-1.0000],\n",
              "        [-1.0000],\n",
              "        [-1.0000],\n",
              "        [-1.0000],\n",
              "        [-1.0000],\n",
              "        [-0.9686],\n",
              "        [ 0.5765],\n",
              "        [ 0.7020],\n",
              "        [ 0.7020],\n",
              "        [ 0.1686],\n",
              "        [-0.1059],\n",
              "        [-0.1059],\n",
              "        [-0.1059],\n",
              "        [-0.5765],\n",
              "        [-0.6392],\n",
              "        [ 0.9216],\n",
              "        [ 0.9843],\n",
              "        [ 0.9843],\n",
              "        [-0.3490],\n",
              "        [-1.0000],\n",
              "        [-1.0000],\n",
              "        [-1.0000],\n",
              "        [-1.0000],\n",
              "        [-1.0000],\n",
              "        [-1.0000],\n",
              "        [-1.0000],\n",
              "        [-1.0000],\n",
              "        [-1.0000],\n",
              "        [-1.0000],\n",
              "        [-1.0000],\n",
              "        [-1.0000],\n",
              "        [-1.0000],\n",
              "        [-1.0000],\n",
              "        [-1.0000],\n",
              "        [-1.0000],\n",
              "        [-1.0000],\n",
              "        [-1.0000],\n",
              "        [-1.0000],\n",
              "        [-1.0000],\n",
              "        [-1.0000],\n",
              "        [-1.0000],\n",
              "        [-1.0000],\n",
              "        [-0.7098],\n",
              "        [ 0.9216],\n",
              "        [ 0.9843],\n",
              "        [ 0.9216],\n",
              "        [-0.6157],\n",
              "        [-1.0000],\n",
              "        [-1.0000],\n",
              "        [-1.0000],\n",
              "        [-1.0000],\n",
              "        [-1.0000],\n",
              "        [-1.0000],\n",
              "        [-1.0000],\n",
              "        [-1.0000],\n",
              "        [-1.0000],\n",
              "        [-1.0000],\n",
              "        [-1.0000],\n",
              "        [-1.0000],\n",
              "        [-1.0000],\n",
              "        [-1.0000],\n",
              "        [-1.0000],\n",
              "        [-1.0000],\n",
              "        [-1.0000],\n",
              "        [-1.0000],\n",
              "        [-1.0000],\n",
              "        [-1.0000],\n",
              "        [-1.0000],\n",
              "        [-1.0000],\n",
              "        [-1.0000],\n",
              "        [-1.0000],\n",
              "        [ 0.8745],\n",
              "        [ 0.9843],\n",
              "        [ 0.9843],\n",
              "        [-0.3490],\n",
              "        [-1.0000],\n",
              "        [-1.0000],\n",
              "        [-1.0000],\n",
              "        [-1.0000],\n",
              "        [-1.0000],\n",
              "        [-1.0000],\n",
              "        [-1.0000],\n",
              "        [-1.0000],\n",
              "        [-1.0000],\n",
              "        [-1.0000],\n",
              "        [-1.0000],\n",
              "        [-1.0000],\n",
              "        [-1.0000],\n",
              "        [-1.0000],\n",
              "        [-1.0000],\n",
              "        [-1.0000],\n",
              "        [-1.0000],\n",
              "        [-1.0000],\n",
              "        [-1.0000],\n",
              "        [-1.0000],\n",
              "        [-1.0000],\n",
              "        [-1.0000],\n",
              "        [-1.0000],\n",
              "        [-1.0000],\n",
              "        [ 0.8745],\n",
              "        [ 0.9843],\n",
              "        [ 0.9843],\n",
              "        [-0.3490],\n",
              "        [-1.0000],\n",
              "        [-1.0000],\n",
              "        [-1.0000],\n",
              "        [-1.0000],\n",
              "        [-1.0000],\n",
              "        [-1.0000],\n",
              "        [-1.0000],\n",
              "        [-1.0000],\n",
              "        [-1.0000],\n",
              "        [-1.0000],\n",
              "        [-1.0000],\n",
              "        [-1.0000],\n",
              "        [-1.0000],\n",
              "        [-1.0000],\n",
              "        [-1.0000],\n",
              "        [-1.0000],\n",
              "        [-1.0000],\n",
              "        [-1.0000],\n",
              "        [-1.0000],\n",
              "        [-1.0000],\n",
              "        [-1.0000],\n",
              "        [-1.0000],\n",
              "        [-1.0000],\n",
              "        [-0.6706],\n",
              "        [ 0.9294],\n",
              "        [ 0.9843],\n",
              "        [ 0.8431],\n",
              "        [-0.9216],\n",
              "        [-1.0000],\n",
              "        [-1.0000],\n",
              "        [-1.0000],\n",
              "        [-1.0000],\n",
              "        [-1.0000],\n",
              "        [-1.0000],\n",
              "        [-1.0000],\n",
              "        [-1.0000],\n",
              "        [-1.0000],\n",
              "        [-1.0000],\n",
              "        [-1.0000],\n",
              "        [-1.0000],\n",
              "        [-1.0000],\n",
              "        [-1.0000],\n",
              "        [-1.0000],\n",
              "        [-1.0000],\n",
              "        [-1.0000],\n",
              "        [-1.0000],\n",
              "        [-1.0000],\n",
              "        [-1.0000],\n",
              "        [-1.0000],\n",
              "        [-1.0000],\n",
              "        [-1.0000],\n",
              "        [-0.0980],\n",
              "        [ 0.9843],\n",
              "        [ 0.9843],\n",
              "        [ 0.8275],\n",
              "        [-1.0000],\n",
              "        [-1.0000],\n",
              "        [-1.0000],\n",
              "        [-1.0000],\n",
              "        [-1.0000],\n",
              "        [-1.0000],\n",
              "        [-1.0000],\n",
              "        [-1.0000],\n",
              "        [-1.0000],\n",
              "        [-1.0000],\n",
              "        [-1.0000],\n",
              "        [-1.0000],\n",
              "        [-1.0000],\n",
              "        [-1.0000],\n",
              "        [-1.0000],\n",
              "        [-1.0000],\n",
              "        [-1.0000],\n",
              "        [-1.0000],\n",
              "        [-1.0000],\n",
              "        [-1.0000],\n",
              "        [-1.0000],\n",
              "        [-1.0000],\n",
              "        [-1.0000],\n",
              "        [-0.8588],\n",
              "        [ 0.7098],\n",
              "        [ 0.9843],\n",
              "        [ 0.9843],\n",
              "        [ 0.1373],\n",
              "        [-1.0000],\n",
              "        [-1.0000],\n",
              "        [-1.0000],\n",
              "        [-1.0000],\n",
              "        [-1.0000],\n",
              "        [-1.0000],\n",
              "        [-1.0000],\n",
              "        [-1.0000],\n",
              "        [-1.0000],\n",
              "        [-1.0000],\n",
              "        [-1.0000],\n",
              "        [-1.0000],\n",
              "        [-1.0000],\n",
              "        [-1.0000],\n",
              "        [-1.0000],\n",
              "        [-1.0000],\n",
              "        [-1.0000],\n",
              "        [-1.0000],\n",
              "        [-1.0000],\n",
              "        [-1.0000],\n",
              "        [-1.0000],\n",
              "        [-1.0000],\n",
              "        [-1.0000],\n",
              "        [-0.6706],\n",
              "        [ 0.9843],\n",
              "        [ 0.9843],\n",
              "        [ 0.9843],\n",
              "        [ 0.0118],\n",
              "        [-1.0000],\n",
              "        [-1.0000],\n",
              "        [-1.0000],\n",
              "        [-1.0000],\n",
              "        [-1.0000],\n",
              "        [-1.0000],\n",
              "        [-1.0000],\n",
              "        [-1.0000],\n",
              "        [-1.0000],\n",
              "        [-1.0000],\n",
              "        [-1.0000],\n",
              "        [-1.0000],\n",
              "        [-1.0000],\n",
              "        [-1.0000],\n",
              "        [-1.0000],\n",
              "        [-1.0000],\n",
              "        [-1.0000],\n",
              "        [-1.0000],\n",
              "        [-1.0000],\n",
              "        [-1.0000],\n",
              "        [-1.0000],\n",
              "        [-1.0000],\n",
              "        [-1.0000],\n",
              "        [-0.6706],\n",
              "        [ 0.9843],\n",
              "        [ 0.9843],\n",
              "        [ 0.9843],\n",
              "        [-0.6392],\n",
              "        [-1.0000],\n",
              "        [-1.0000],\n",
              "        [-1.0000],\n",
              "        [-1.0000],\n",
              "        [-1.0000],\n",
              "        [-1.0000],\n",
              "        [-1.0000],\n",
              "        [-1.0000],\n",
              "        [-1.0000],\n",
              "        [-1.0000],\n",
              "        [-1.0000],\n",
              "        [-1.0000],\n",
              "        [-1.0000],\n",
              "        [-1.0000],\n",
              "        [-1.0000],\n",
              "        [-1.0000],\n",
              "        [-1.0000],\n",
              "        [-1.0000],\n",
              "        [-1.0000],\n",
              "        [-1.0000],\n",
              "        [-1.0000],\n",
              "        [-1.0000],\n",
              "        [-1.0000],\n",
              "        [ 0.1294],\n",
              "        [ 0.9843],\n",
              "        [ 0.9843],\n",
              "        [ 0.6392],\n",
              "        [-0.9137],\n",
              "        [-1.0000],\n",
              "        [-1.0000],\n",
              "        [-1.0000],\n",
              "        [-1.0000],\n",
              "        [-1.0000],\n",
              "        [-1.0000],\n",
              "        [-1.0000],\n",
              "        [-1.0000],\n",
              "        [-1.0000],\n",
              "        [-1.0000],\n",
              "        [-1.0000],\n",
              "        [-1.0000],\n",
              "        [-1.0000],\n",
              "        [-1.0000],\n",
              "        [-1.0000],\n",
              "        [-1.0000],\n",
              "        [-1.0000],\n",
              "        [-1.0000],\n",
              "        [-1.0000],\n",
              "        [-1.0000],\n",
              "        [-1.0000],\n",
              "        [-1.0000],\n",
              "        [-1.0000],\n",
              "        [ 0.7569],\n",
              "        [ 0.9843],\n",
              "        [ 0.9843],\n",
              "        [-0.2392],\n",
              "        [-1.0000],\n",
              "        [-1.0000],\n",
              "        [-1.0000],\n",
              "        [-1.0000],\n",
              "        [-1.0000],\n",
              "        [-1.0000],\n",
              "        [-1.0000],\n",
              "        [-1.0000],\n",
              "        [-1.0000],\n",
              "        [-1.0000],\n",
              "        [-1.0000],\n",
              "        [-1.0000],\n",
              "        [-1.0000],\n",
              "        [-1.0000],\n",
              "        [-1.0000],\n",
              "        [-1.0000],\n",
              "        [-1.0000],\n",
              "        [-1.0000],\n",
              "        [-1.0000],\n",
              "        [-1.0000],\n",
              "        [-1.0000],\n",
              "        [-1.0000],\n",
              "        [-1.0000],\n",
              "        [-0.2627],\n",
              "        [ 0.9843],\n",
              "        [ 0.9843],\n",
              "        [ 0.9843],\n",
              "        [-0.4353],\n",
              "        [-1.0000],\n",
              "        [-1.0000],\n",
              "        [-1.0000],\n",
              "        [-1.0000],\n",
              "        [-1.0000],\n",
              "        [-1.0000],\n",
              "        [-1.0000],\n",
              "        [-1.0000],\n",
              "        [-1.0000],\n",
              "        [-1.0000],\n",
              "        [-1.0000],\n",
              "        [-1.0000],\n",
              "        [-1.0000],\n",
              "        [-1.0000],\n",
              "        [-1.0000],\n",
              "        [-1.0000],\n",
              "        [-1.0000],\n",
              "        [-1.0000],\n",
              "        [-1.0000],\n",
              "        [-1.0000],\n",
              "        [-1.0000],\n",
              "        [-1.0000],\n",
              "        [-1.0000],\n",
              "        [-0.2235],\n",
              "        [ 0.9843],\n",
              "        [ 0.9843],\n",
              "        [ 0.9137],\n",
              "        [-0.6078],\n",
              "        [-1.0000],\n",
              "        [-1.0000],\n",
              "        [-1.0000],\n",
              "        [-1.0000],\n",
              "        [-1.0000],\n",
              "        [-1.0000],\n",
              "        [-1.0000],\n",
              "        [-1.0000],\n",
              "        [-1.0000],\n",
              "        [-1.0000],\n",
              "        [-1.0000],\n",
              "        [-1.0000],\n",
              "        [-1.0000],\n",
              "        [-1.0000],\n",
              "        [-1.0000],\n",
              "        [-1.0000],\n",
              "        [-1.0000],\n",
              "        [-1.0000],\n",
              "        [-1.0000],\n",
              "        [-1.0000],\n",
              "        [-1.0000],\n",
              "        [-1.0000],\n",
              "        [-1.0000],\n",
              "        [-0.2235],\n",
              "        [ 0.9843],\n",
              "        [ 0.9843],\n",
              "        [ 0.7412],\n",
              "        [-1.0000],\n",
              "        [-1.0000],\n",
              "        [-1.0000],\n",
              "        [-1.0000],\n",
              "        [-1.0000],\n",
              "        [-1.0000],\n",
              "        [-1.0000],\n",
              "        [-1.0000],\n",
              "        [-1.0000],\n",
              "        [-1.0000],\n",
              "        [-1.0000],\n",
              "        [-1.0000],\n",
              "        [-1.0000],\n",
              "        [-1.0000],\n",
              "        [-1.0000],\n",
              "        [-1.0000],\n",
              "        [-1.0000],\n",
              "        [-1.0000],\n",
              "        [-1.0000],\n",
              "        [-1.0000],\n",
              "        [-1.0000],\n",
              "        [-1.0000],\n",
              "        [-1.0000],\n",
              "        [-1.0000],\n",
              "        [ 0.3255],\n",
              "        [ 0.9843],\n",
              "        [ 0.9843],\n",
              "        [ 0.7412],\n",
              "        [-1.0000],\n",
              "        [-1.0000],\n",
              "        [-1.0000],\n",
              "        [-1.0000],\n",
              "        [-1.0000],\n",
              "        [-1.0000],\n",
              "        [-1.0000],\n",
              "        [-1.0000],\n",
              "        [-1.0000],\n",
              "        [-1.0000],\n",
              "        [-1.0000],\n",
              "        [-1.0000],\n",
              "        [-1.0000],\n",
              "        [-1.0000],\n",
              "        [-1.0000],\n",
              "        [-1.0000],\n",
              "        [-1.0000],\n",
              "        [-1.0000],\n",
              "        [-1.0000],\n",
              "        [-1.0000],\n",
              "        [-1.0000],\n",
              "        [-1.0000],\n",
              "        [-1.0000],\n",
              "        [-1.0000],\n",
              "        [ 0.5843],\n",
              "        [ 0.9843],\n",
              "        [ 0.9843],\n",
              "        [ 0.7412],\n",
              "        [-1.0000],\n",
              "        [-1.0000],\n",
              "        [-1.0000],\n",
              "        [-1.0000],\n",
              "        [-1.0000],\n",
              "        [-1.0000],\n",
              "        [-1.0000],\n",
              "        [-1.0000],\n",
              "        [-1.0000],\n",
              "        [-1.0000],\n",
              "        [-1.0000],\n",
              "        [-1.0000],\n",
              "        [-1.0000],\n",
              "        [-1.0000],\n",
              "        [-1.0000],\n",
              "        [-1.0000],\n",
              "        [-1.0000],\n",
              "        [-1.0000],\n",
              "        [-1.0000],\n",
              "        [-1.0000],\n",
              "        [-1.0000],\n",
              "        [-1.0000],\n",
              "        [-1.0000],\n",
              "        [-1.0000],\n",
              "        [ 0.4039],\n",
              "        [ 0.9843],\n",
              "        [ 0.9843],\n",
              "        [ 0.7412],\n",
              "        [-1.0000],\n",
              "        [-1.0000],\n",
              "        [-1.0000],\n",
              "        [-1.0000],\n",
              "        [-1.0000],\n",
              "        [-1.0000],\n",
              "        [-1.0000],\n",
              "        [-1.0000],\n",
              "        [-1.0000],\n",
              "        [-1.0000],\n",
              "        [-1.0000],\n",
              "        [-1.0000],\n",
              "        [-1.0000],\n",
              "        [-1.0000],\n",
              "        [-1.0000],\n",
              "        [-1.0000],\n",
              "        [-1.0000],\n",
              "        [-1.0000],\n",
              "        [-1.0000],\n",
              "        [-1.0000],\n",
              "        [-1.0000],\n",
              "        [-1.0000],\n",
              "        [-1.0000],\n",
              "        [-1.0000],\n",
              "        [-0.5373],\n",
              "        [ 0.3020],\n",
              "        [ 0.9843],\n",
              "        [-0.2549],\n",
              "        [-1.0000],\n",
              "        [-1.0000],\n",
              "        [-1.0000],\n",
              "        [-1.0000],\n",
              "        [-1.0000],\n",
              "        [-1.0000],\n",
              "        [-1.0000],\n",
              "        [-1.0000],\n",
              "        [-1.0000],\n",
              "        [-1.0000],\n",
              "        [-1.0000],\n",
              "        [-1.0000],\n",
              "        [-1.0000],\n",
              "        [-1.0000],\n",
              "        [-1.0000],\n",
              "        [-1.0000],\n",
              "        [-1.0000],\n",
              "        [-1.0000],\n",
              "        [-1.0000],\n",
              "        [-1.0000],\n",
              "        [-1.0000],\n",
              "        [-1.0000],\n",
              "        [-1.0000],\n",
              "        [-1.0000],\n",
              "        [-1.0000],\n",
              "        [-1.0000],\n",
              "        [-1.0000],\n",
              "        [-1.0000],\n",
              "        [-1.0000],\n",
              "        [-1.0000],\n",
              "        [-1.0000],\n",
              "        [-1.0000],\n",
              "        [-1.0000],\n",
              "        [-1.0000],\n",
              "        [-1.0000],\n",
              "        [-1.0000],\n",
              "        [-1.0000],\n",
              "        [-1.0000],\n",
              "        [-1.0000],\n",
              "        [-1.0000]])"
            ]
          },
          "metadata": {
            "tags": []
          },
          "execution_count": 8
        }
      ]
    },
    {
      "cell_type": "code",
      "metadata": {
        "id": "Vu3OOYQpsxUu",
        "outputId": "b0ada926-90a8-4452-9ef0-79ba9074b728",
        "colab": {
          "base_uri": "https://localhost:8080/",
          "height": 35
        }
      },
      "source": [
        "images.shape"
      ],
      "execution_count": 9,
      "outputs": [
        {
          "output_type": "execute_result",
          "data": {
            "text/plain": [
              "torch.Size([64, 1, 28, 28])"
            ]
          },
          "metadata": {
            "tags": []
          },
          "execution_count": 9
        }
      ]
    },
    {
      "cell_type": "code",
      "metadata": {
        "id": "i0uN39R4rOv9",
        "outputId": "5f8d0bc6-e99b-4024-b913-69fa2721956b",
        "colab": {
          "base_uri": "https://localhost:8080/",
          "height": 35
        }
      },
      "source": [
        "#Flattening the input images\n",
        "input = images.view(images.shape[0],-1)\n",
        "input.shape"
      ],
      "execution_count": 10,
      "outputs": [
        {
          "output_type": "execute_result",
          "data": {
            "text/plain": [
              "torch.Size([64, 784])"
            ]
          },
          "metadata": {
            "tags": []
          },
          "execution_count": 10
        }
      ]
    },
    {
      "cell_type": "code",
      "metadata": {
        "id": "3qk2ushirivA"
      },
      "source": [
        "#Creating weights and biases\n",
        "#Layer 1 \n",
        "weightsLayer1 = torch.randn(784,256)\n",
        "biasLayer1 = torch.randn(256)\n",
        "\n",
        "#Layer 2 \n",
        "weightsLayer2 = torch.randn(256,10)\n",
        "biasLayer2 = torch.randn(10)"
      ],
      "execution_count": 11,
      "outputs": []
    },
    {
      "cell_type": "code",
      "metadata": {
        "id": "nFkfiT-OsiCZ"
      },
      "source": [
        "def activation(x):\n",
        "  return 1/(1+torch.exp(-x))"
      ],
      "execution_count": 12,
      "outputs": []
    },
    {
      "cell_type": "code",
      "metadata": {
        "id": "23wwA61RsFcb"
      },
      "source": [
        "#Running the neural networ\n",
        "hiddenOutput1 = activation(torch.mm(input,weightsLayer1)+ biasLayer1)\n",
        "finalOutput = torch.mm(hiddenOutput1,weightsLayer2) + biasLayer2"
      ],
      "execution_count": 14,
      "outputs": []
    },
    {
      "cell_type": "code",
      "metadata": {
        "id": "3VZER3ibLMzI"
      },
      "source": [
        "def softMax(x):\n",
        "  return torch.exp(x)/torch.sum(torch.exp(x), dim=1).view(-1,1)"
      ],
      "execution_count": 15,
      "outputs": []
    },
    {
      "cell_type": "code",
      "metadata": {
        "id": "9n3QHLFoL8yR",
        "outputId": "6ab6bade-fa2f-487f-c585-2e0aa6343d85",
        "colab": {
          "base_uri": "https://localhost:8080/",
          "height": 35
        }
      },
      "source": [
        "torch.sum(torch.exp(finalOutput[0])).view(-1,1)"
      ],
      "execution_count": 22,
      "outputs": [
        {
          "output_type": "execute_result",
          "data": {
            "text/plain": [
              "tensor(40354660.)"
            ]
          },
          "metadata": {
            "tags": []
          },
          "execution_count": 22
        }
      ]
    },
    {
      "cell_type": "code",
      "metadata": {
        "id": "z5Xr_f0aMun0",
        "outputId": "36fc6d7d-d5be-4f22-ec28-24ceb264ff67",
        "colab": {
          "base_uri": "https://localhost:8080/",
          "height": 52
        }
      },
      "source": [
        "finalOutput[0]"
      ],
      "execution_count": 27,
      "outputs": [
        {
          "output_type": "execute_result",
          "data": {
            "text/plain": [
              "tensor([ -5.6605,   0.1571,  17.5129,  -4.5016,  -1.8772,   0.2911,   9.5399,\n",
              "          5.0532, -16.3180,   0.8334])"
            ]
          },
          "metadata": {
            "tags": []
          },
          "execution_count": 27
        }
      ]
    },
    {
      "cell_type": "code",
      "metadata": {
        "id": "RzCIaJ8RMddZ",
        "outputId": "3311b2fb-bcf8-45ec-dff1-42b6e9d9d1a5",
        "colab": {
          "base_uri": "https://localhost:8080/",
          "height": 35
        }
      },
      "source": [
        "probabilities = softMax(finalOutput)\n",
        "probabilities.shape"
      ],
      "execution_count": 25,
      "outputs": [
        {
          "output_type": "execute_result",
          "data": {
            "text/plain": [
              "torch.Size([64, 10])"
            ]
          },
          "metadata": {
            "tags": []
          },
          "execution_count": 25
        }
      ]
    },
    {
      "cell_type": "code",
      "metadata": {
        "id": "NkatsqgvMpLQ",
        "outputId": "0f0253f3-c56b-4a29-9ad5-afa510c5debb",
        "colab": {
          "base_uri": "https://localhost:8080/",
          "height": 52
        }
      },
      "source": [
        "probabilities[0]"
      ],
      "execution_count": 26,
      "outputs": [
        {
          "output_type": "execute_result",
          "data": {
            "text/plain": [
              "tensor([8.6253e-11, 2.8996e-08, 9.9965e-01, 2.7486e-10, 3.7917e-09, 3.3154e-08,\n",
              "        3.4454e-04, 3.8786e-06, 2.0290e-15, 5.7024e-08])"
            ]
          },
          "metadata": {
            "tags": []
          },
          "execution_count": 26
        }
      ]
    },
    {
      "cell_type": "markdown",
      "metadata": {
        "id": "NcE-qhL9NP6k"
      },
      "source": [
        "#Building Netwroks with PyTorch\n",
        "\n",
        "Rebuilding the above network using PyTorch nn module"
      ]
    },
    {
      "cell_type": "code",
      "metadata": {
        "id": "Sa9k5aiFNZxM"
      },
      "source": [
        "from torch import nn\n",
        "\n",
        "class MNISTNetwork(nn.Module):\n",
        "  def __init__(self):\n",
        "    super().__init__()\n",
        "    self.hiddenLayer = nn.Linear(784,256)\n",
        "    self.finalOutput = nn.Linear(256,10)\n",
        "    self.sigmoid = nn.Sigmoid()\n",
        "    self.softMax = nn.Softmax(dim=1)\n",
        "\n",
        "  def forward(self,x):\n",
        "    #Pass the input tensor to each of the operations in a neural network\n",
        "    x = self.hiddenLayer(x)\n",
        "    x = self.sigmoid(x)\n",
        "    x = self.finalOutput(x)\n",
        "    x = self.softMax(x)\n",
        "    return x"
      ],
      "execution_count": 30,
      "outputs": []
    },
    {
      "cell_type": "code",
      "metadata": {
        "id": "7zli9yfHQdje"
      },
      "source": [
        "mnistNetwork = MNISTNetwork()\n",
        "output = mnistNetwork.forward(input)"
      ],
      "execution_count": 33,
      "outputs": []
    },
    {
      "cell_type": "code",
      "metadata": {
        "id": "hD3AsVilQ64e",
        "outputId": "421929d6-78f2-4177-c127-9ae287cbb418",
        "colab": {
          "base_uri": "https://localhost:8080/",
          "height": 35
        }
      },
      "source": [
        "output.shape"
      ],
      "execution_count": 34,
      "outputs": [
        {
          "output_type": "execute_result",
          "data": {
            "text/plain": [
              "torch.Size([64, 10])"
            ]
          },
          "metadata": {
            "tags": []
          },
          "execution_count": 34
        }
      ]
    },
    {
      "cell_type": "code",
      "metadata": {
        "id": "SAZkSp5KRnwZ"
      },
      "source": [
        "import torch.nn.functional as F\n",
        "\n",
        "#Using torch.nn.functional, we no need to initialise the activation functions, they cna be used directly from the function module\n",
        "\n",
        "class MNISTNetwork2(nn.Module):\n",
        "  def __init__(self):\n",
        "    super().__init__()\n",
        "    self.hiddenLayer = nn.Linear(784,256)\n",
        "    self.finalOutput = nn.Linear(256,10)\n",
        "\n",
        "  def forward(self,x):\n",
        "    #Pass the input tensor to each of the operations in a neural network\n",
        "    x = F.sigmoid(self.hiddenLayer(x))\n",
        "    x = F.softmax(self.finalOutput(x))\n",
        "    return x"
      ],
      "execution_count": 36,
      "outputs": []
    },
    {
      "cell_type": "code",
      "metadata": {
        "id": "826ScVA5SSa1",
        "outputId": "7cf97752-e8ba-4711-99f5-ebc6aa6902e2",
        "colab": {
          "base_uri": "https://localhost:8080/",
          "height": 141
        }
      },
      "source": [
        "mnistNetwork = MNISTNetwork2()\n",
        "output = mnistNetwork.forward(input)\n",
        "output[0]"
      ],
      "execution_count": 38,
      "outputs": [
        {
          "output_type": "stream",
          "text": [
            "/usr/local/lib/python3.6/dist-packages/torch/nn/functional.py:1625: UserWarning: nn.functional.sigmoid is deprecated. Use torch.sigmoid instead.\n",
            "  warnings.warn(\"nn.functional.sigmoid is deprecated. Use torch.sigmoid instead.\")\n",
            "/usr/local/lib/python3.6/dist-packages/ipykernel_launcher.py:14: UserWarning: Implicit dimension choice for softmax has been deprecated. Change the call to include dim=X as an argument.\n",
            "  \n"
          ],
          "name": "stderr"
        },
        {
          "output_type": "execute_result",
          "data": {
            "text/plain": [
              "tensor([0.1305, 0.0901, 0.1000, 0.0907, 0.0998, 0.1026, 0.0667, 0.1263, 0.0790,\n",
              "        0.1143], grad_fn=<SelectBackward>)"
            ]
          },
          "metadata": {
            "tags": []
          },
          "execution_count": 38
        }
      ]
    }
  ]
}