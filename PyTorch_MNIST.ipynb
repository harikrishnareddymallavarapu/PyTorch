{
  "nbformat": 4,
  "nbformat_minor": 0,
  "metadata": {
    "colab": {
      "name": "PyTorch-MNIST.ipynb",
      "provenance": [],
      "collapsed_sections": [],
      "authorship_tag": "ABX9TyPG161ve+GkbnMD6lFqLWUV",
      "include_colab_link": true
    },
    "kernelspec": {
      "name": "python3",
      "display_name": "Python 3"
    }
  },
  "cells": [
    {
      "cell_type": "markdown",
      "metadata": {
        "id": "view-in-github",
        "colab_type": "text"
      },
      "source": [
        "<a href=\"https://colab.research.google.com/github/harikrishnareddymallavarapu/PyTorch/blob/main/PyTorch_MNIST.ipynb\" target=\"_parent\"><img src=\"https://colab.research.google.com/assets/colab-badge.svg\" alt=\"Open In Colab\"/></a>"
      ]
    },
    {
      "cell_type": "code",
      "metadata": {
        "id": "Yp9yqfKZgqNh"
      },
      "source": [
        "%matplotlib inline\n",
        "%config InlineBackend.figure.format ='retina'\n",
        "\n",
        "import torch\n",
        "import numpy as np\n",
        "import helper\n",
        "import matplotlib.pyplot as plt"
      ],
      "execution_count": 1,
      "outputs": []
    },
    {
      "cell_type": "markdown",
      "metadata": {
        "id": "AL9iBeL4hPOO"
      },
      "source": [
        "# MNIST data set \n",
        "- Each image is converted to 28*28 pixel value\n",
        "-transforms.Compose just clubs all the transforms provided to it. So, all the transforms in the transforms.Compose are applied to the input one by one.\n",
        "-Normalize does the following for each channel:\n",
        "\n",
        "  image = (image - mean) / std\n",
        "\n",
        "  The parameters mean, std are passed as 0.5, 0.5 in your case. This will normalize the image in the range [-1,1]. For example, the minimum value 0 will be converted to (0-0.5)/0.5=-1, the maximum value of 1 will be converted to (1-0.5)/0.5=1.\n",
        "\n",
        "  if you would like to get your image back in [0,1] range, you could use,\n",
        "\n",
        "  image = ((image * std) + mean)\n",
        "\n",
        "  Normalization helps get data within a range and reduces the skewness which helps learn faster and better\n",
        "\n",
        "  Color images have three channels (red, green, blue), therefore you need three parameters to normalize each channel. The first tuple (0.5, 0.5, 0.5) is the mean for all three channels and the second (0.5, 0.5, 0.5) is the standard deviation for all three channels."
      ]
    },
    {
      "cell_type": "markdown",
      "metadata": {
        "id": "gxsfaF0zlMeD"
      },
      "source": [
        "torchvision.transforms.Normalize(mean, std, inplace=False)\n",
        "\n",
        "- Normalize a tensor image with mean and standard deviation. Given mean: (mean[1],...,mean[n]) and std: (std[1],..,std[n]) for n channels, this transform will normalize each channel of the input torch.*Tensor i.e., output[channel] = (input[channel] - mean[channel]) / std[channel]\n"
      ]
    },
    {
      "cell_type": "code",
      "metadata": {
        "id": "2SWhkRH_gyUn"
      },
      "source": [
        "from torchvision import datasets, transforms"
      ],
      "execution_count": 3,
      "outputs": []
    },
    {
      "cell_type": "code",
      "metadata": {
        "id": "z-R1Vp3siVs7"
      },
      "source": [
        "#Defining the transform to normalize the data\n",
        "transform = transforms.Compose([transforms.ToTensor(),\n",
        "                                transforms.Normalize((0.5,),(0.5,)),])"
      ],
      "execution_count": 13,
      "outputs": []
    },
    {
      "cell_type": "code",
      "metadata": {
        "id": "Q3kLdZ9WlgpM"
      },
      "source": [
        "#Download and load the training data\n",
        "trainset = datasets.MNIST('MNIST-data/', download=True, train=True, transform=transform)\n",
        "trainLoader = torch.utils.data.DataLoader(trainset, shuffle=True,batch_size=64)"
      ],
      "execution_count": 14,
      "outputs": []
    },
    {
      "cell_type": "code",
      "metadata": {
        "id": "-y-crhbAmZ7u",
        "outputId": "e589903d-1d0e-49b7-9596-fcf6dca4dc4a",
        "colab": {
          "base_uri": "https://localhost:8080/",
          "height": 35
        }
      },
      "source": [
        "trainLoader"
      ],
      "execution_count": 15,
      "outputs": [
        {
          "output_type": "execute_result",
          "data": {
            "text/plain": [
              "<torch.utils.data.dataloader.DataLoader at 0x7f9fd977d908>"
            ]
          },
          "metadata": {
            "tags": []
          },
          "execution_count": 15
        }
      ]
    },
    {
      "cell_type": "code",
      "metadata": {
        "id": "ramyxnGzm8RK",
        "outputId": "0f875a25-d121-4bab-f897-a3003c9ae59d",
        "colab": {
          "base_uri": "https://localhost:8080/",
          "height": 69
        }
      },
      "source": [
        "dataiter = iter(trainLoader)\n",
        "images, labels = dataiter.next()\n",
        "print(type(images))\n",
        "print(images.shape)\n",
        "print(labels.shape)"
      ],
      "execution_count": 16,
      "outputs": [
        {
          "output_type": "stream",
          "text": [
            "<class 'torch.Tensor'>\n",
            "torch.Size([64, 1, 28, 28])\n",
            "torch.Size([64])\n"
          ],
          "name": "stdout"
        }
      ]
    },
    {
      "cell_type": "code",
      "metadata": {
        "id": "MBWqH177oFEz",
        "outputId": "c62f240a-d260-4a0a-fed7-e41abfa52b4c",
        "colab": {
          "base_uri": "https://localhost:8080/",
          "height": 283
        }
      },
      "source": [
        "plt.imshow(images[1].numpy().squeeze(),cmap = 'Greys_r')"
      ],
      "execution_count": 17,
      "outputs": [
        {
          "output_type": "execute_result",
          "data": {
            "text/plain": [
              "<matplotlib.image.AxesImage at 0x7f9fd9281c88>"
            ]
          },
          "metadata": {
            "tags": []
          },
          "execution_count": 17
        },
        {
          "output_type": "display_data",
          "data": {
            "image/png": "[encoded data removed]",
            "text/plain": [
              "<Figure size 432x288 with 1 Axes>"
            ]
          },
          "metadata": {
            "tags": [],
            "needs_background": "light"
          }
        }
      ]
    },
    {
      "cell_type": "markdown",
      "metadata": {
        "id": "kYjkKu_1obUx"
      },
      "source": [
        "#Exercise \n",
        "- Flatten the batch of images,. Then build a multi layer network with 784 inputs and 256 hidden units and 10 output units using random tensors for wieghts and biases. Sigmoid layer as activation function for hidden layers and softmax in the output (this follows a probability distribution) \n",
        "- 10 outpus to identify the 10 digits"
      ]
    },
    {
      "cell_type": "code",
      "metadata": {
        "id": "EoEhiJ9KpBkc"
      },
      "source": [
        "#Flatten the images\n",
        "images[0].view(784,-1)"
      ],
      "execution_count": null,
      "outputs": []
    },
    {
      "cell_type": "code",
      "metadata": {
        "id": "i0uN39R4rOv9"
      },
      "source": [
        "#Flattening the input images\n",
        "input = images.view(784,-1)"
      ],
      "execution_count": 20,
      "outputs": []
    },
    {
      "cell_type": "code",
      "metadata": {
        "id": "3qk2ushirivA"
      },
      "source": [
        "#Creating weights and biases\n",
        "#Layer 1 \n",
        "weightsLayer1 = torch.randn(784,256)\n",
        "biasLayer1 = torch.randn(256)\n",
        "\n",
        "#Layer 2 \n",
        "weightsLayer2 = torch.randn(256,10)\n",
        "biasLayer2 = torch.randn(10)"
      ],
      "execution_count": 22,
      "outputs": []
    }
  ]
}